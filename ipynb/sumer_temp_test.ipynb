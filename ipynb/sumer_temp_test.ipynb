{
 "cells": [
  {
   "cell_type": "code",
   "execution_count": 40,
   "metadata": {},
   "outputs": [],
   "source": [
    "import numpy as np\n",
    "import matplotlib.pyplot as plt\n",
    "import astropy.constants as const\n",
    "plt.style.use('science')\n",
    "from IPython.display import display, Math\n",
    "from matplotlib import ticker\n",
    "from matplotlib.ticker import (MultipleLocator, AutoMinorLocator)"
   ]
  },
  {
   "cell_type": "code",
   "execution_count": 8,
   "metadata": {},
   "outputs": [],
   "source": [
    "c = const.c.cgs.value\n",
    "amu = const.u.cgs.value\n",
    "k_B = const.k_B.cgs.value\n",
    "hplanck = const.h.cgs.value"
   ]
  },
  {
   "cell_type": "code",
   "execution_count": 9,
   "metadata": {},
   "outputs": [],
   "source": [
    "Fe_mass = 55.85\n",
    "Mg_mass = 24.31\n",
    "Na_mass = 22.98977\n",
    "Ne_mass = 20.179\n",
    "O_mass = 15.9994\n",
    "N_mass = 14.0067"
   ]
  },
  {
   "cell_type": "code",
   "execution_count": 13,
   "metadata": {},
   "outputs": [],
   "source": [
    "line_id_latex = [r\"Fe \\textsc{xi}\",r\"Na \\textsc{ix}\",r\"Fe \\textsc{viii}\",r\"Mg \\textsc{ix}\",r\"Mg \\textsc{viii} 782\",\n",
    "           r\"Mg \\textsc{viii} 762\",r\"Ne \\textsc{viii}\",r\"O \\textsc{vi}\",r\"Mg \\textsc{x}\",r\"N \\textsc{v}\"]\n",
    "\n",
    "line_id = [\"Fe XI\",\"Na IX\",\"Fe VIII\",\"Mg IX\",\"Mg VIII 782\",\"Mg VIII 762\",\"Ne VIII\",\"O VI\",\"Mg X\",\"N V\"]\n",
    "line_width = np.array([140.955,110.463,99.9554,112.616,111.033,82.5511,60.1019,107.274,155.24/2.0,128.591])*2/1.0e3\n",
    "line_wvl = np.array([680.4394669,681.7592728,697.1548791,749.5246302,782.4189007,762.6501432,\n",
    "                    770.4246102,1037.612488,624.9523159,1238.815838])\n",
    "line_mass = np.array([Fe_mass,Na_mass,Fe_mass,Mg_mass,Mg_mass,Mg_mass,Ne_mass,O_mass,Mg_mass,N_mass])"
   ]
  },
  {
   "cell_type": "code",
   "execution_count": 16,
   "metadata": {},
   "outputs": [],
   "source": [
    "turb_max = np.min(line_width)\n",
    "line_width_min = np.sqrt(line_width**2 - turb_max**2)\n",
    "temp_max = np.square(line_width/line_wvl*c)*line_mass*amu/2/k_B/(4*np.log(2))\n",
    "temp_min = np.square(line_width_min/line_wvl*c)*line_mass*amu/2/k_B/(4*np.log(2))\n",
    "temp_aver = (temp_max+temp_min)/2"
   ]
  },
  {
   "cell_type": "code",
   "execution_count": 43,
   "metadata": {},
   "outputs": [
    {
     "name": "stdout",
     "output_type": "stream",
     "text": [
      "Fe XI 7.184411636484396 7.271556921903845\n",
      "Na IX 6.520209285685013 6.672657950711238\n",
      "Fe VIII 6.757058429430933 6.9519289219669975\n",
      "Mg IX 6.485778322862797 6.631365100360578\n",
      "Mg VIII 782 6.431179859092272 6.581762205022105\n",
      "Mg VIII 762 6.018568205025252 6.346531739783867\n",
      "Ne VIII 0.0 5.981167512781699\n",
      "O VI 5.961363690787515 6.124974029805764\n",
      "Mg X 6.068533336821627 6.465990236037392\n",
      "N V 5.96365158329853 6.0706952399870415\n"
     ]
    }
   ],
   "source": [
    "for ii in range(10):\n",
    "    print(line_id[ii],np.log10(temp_min[ii]+1),np.log10(temp_max[ii]))"
   ]
  },
  {
   "cell_type": "code",
   "execution_count": 61,
   "metadata": {},
   "outputs": [
    {
     "data": {
      "image/png": "[encoded data removed]",
      "text/plain": [
       "<Figure size 1152x432 with 1 Axes>"
      ]
     },
     "metadata": {
      "needs_background": "light"
     },
     "output_type": "display_data"
    }
   ],
   "source": [
    "fig,ax = plt.subplots(figsize=(16,6))\n",
    "ax.errorbar(np.arange(10),temp_aver,[temp_max-temp_aver,temp_aver-temp_min],marker=None,fmt=\"none\",capsize=4,lw=1)\n",
    "ax.set_yscale(\"log\")\n",
    "ax.set_xlim(-1,11)\n",
    "ax.set_xticks(np.arange(10))\n",
    "ax.set_xticklabels(line_id_latex)\n",
    "ax.tick_params(labelsize=16)\n",
    "#ax.xaxis.set_major_locator(plt.MaxNLocator(13))"
   ]
  },
  {
   "cell_type": "code",
   "execution_count": 53,
   "metadata": {},
   "outputs": [
    {
     "data": {
      "text/plain": [
       "array([0, 1, 2, 3, 4, 5, 6, 7, 8, 9])"
      ]
     },
     "execution_count": 53,
     "metadata": {},
     "output_type": "execute_result"
    }
   ],
   "source": [
    "np.arange(10)"
   ]
  }
 ],
 "metadata": {
  "kernelspec": {
   "display_name": "Python 3 (ipykernel)",
   "language": "python",
   "name": "python3"
  },
  "language_info": {
   "codemirror_mode": {
    "name": "ipython",
    "version": 3
   },
   "file_extension": ".py",
   "mimetype": "text/x-python",
   "name": "python",
   "nbconvert_exporter": "python",
   "pygments_lexer": "ipython3",
   "version": "3.7.3"
  }
 },
 "nbformat": 4,
 "nbformat_minor": 4
}
