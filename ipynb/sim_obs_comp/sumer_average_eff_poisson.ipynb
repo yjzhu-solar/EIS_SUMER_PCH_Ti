{
 "cells": [
  {
   "cell_type": "code",
   "execution_count": 1,
   "metadata": {},
   "outputs": [],
   "source": [
    "import numpy as np\n",
    "import matplotlib.pyplot as plt\n",
    "import astropy.constants as const\n",
    "import pandas as pd\n",
    "import cmcrameri as cmcm\n",
    "import juanfit"
   ]
  },
  {
   "cell_type": "code",
   "execution_count": 2,
   "metadata": {},
   "outputs": [
    {
     "data": {
      "text/html": [
       "<div>\n",
       "<style scoped>\n",
       "    .dataframe tbody tr th:only-of-type {\n",
       "        vertical-align: middle;\n",
       "    }\n",
       "\n",
       "    .dataframe tbody tr th {\n",
       "        vertical-align: top;\n",
       "    }\n",
       "\n",
       "    .dataframe thead th {\n",
       "        text-align: right;\n",
       "    }\n",
       "</style>\n",
       "<table border=\"1\" class=\"dataframe\">\n",
       "  <thead>\n",
       "    <tr style=\"text-align: right;\">\n",
       "      <th></th>\n",
       "      <th>ion</th>\n",
       "      <th>charge_stat</th>\n",
       "      <th>Z</th>\n",
       "      <th>A</th>\n",
       "      <th>temp</th>\n",
       "      <th>wvl_fit</th>\n",
       "      <th>wvl_chianti</th>\n",
       "      <th>fwhm_fit</th>\n",
       "      <th>fwhm_err</th>\n",
       "      <th>fwhm_true</th>\n",
       "      <th>fwhm_awsom</th>\n",
       "      <th>quality</th>\n",
       "      <th>fwhm_true_err</th>\n",
       "    </tr>\n",
       "  </thead>\n",
       "  <tbody>\n",
       "    <tr>\n",
       "      <th>0</th>\n",
       "      <td>Fe</td>\n",
       "      <td>xi</td>\n",
       "      <td>10</td>\n",
       "      <td>55.85000</td>\n",
       "      <td>6.0</td>\n",
       "      <td>680.439</td>\n",
       "      <td>680.406</td>\n",
       "      <td>0.3450</td>\n",
       "      <td>0.0280</td>\n",
       "      <td>0.28048</td>\n",
       "      <td>0.172</td>\n",
       "      <td>b</td>\n",
       "      <td>0.034441</td>\n",
       "    </tr>\n",
       "    <tr>\n",
       "      <th>1</th>\n",
       "      <td>Na</td>\n",
       "      <td>ix</td>\n",
       "      <td>8</td>\n",
       "      <td>22.98977</td>\n",
       "      <td>5.9</td>\n",
       "      <td>681.760</td>\n",
       "      <td>681.719</td>\n",
       "      <td>0.3080</td>\n",
       "      <td>0.0054</td>\n",
       "      <td>0.23250</td>\n",
       "      <td>0.175</td>\n",
       "      <td>a</td>\n",
       "      <td>0.007154</td>\n",
       "    </tr>\n",
       "    <tr>\n",
       "      <th>2</th>\n",
       "      <td>Mg</td>\n",
       "      <td>viii</td>\n",
       "      <td>7</td>\n",
       "      <td>24.31000</td>\n",
       "      <td>5.9</td>\n",
       "      <td>689.629</td>\n",
       "      <td>689.641</td>\n",
       "      <td>0.2760</td>\n",
       "      <td>0.0180</td>\n",
       "      <td>0.18696</td>\n",
       "      <td>0.170</td>\n",
       "      <td>a</td>\n",
       "      <td>0.026573</td>\n",
       "    </tr>\n",
       "    <tr>\n",
       "      <th>3</th>\n",
       "      <td>Ca</td>\n",
       "      <td>ix</td>\n",
       "      <td>8</td>\n",
       "      <td>40.08000</td>\n",
       "      <td>5.8</td>\n",
       "      <td>691.445</td>\n",
       "      <td>691.424</td>\n",
       "      <td>0.3280</td>\n",
       "      <td>0.0170</td>\n",
       "      <td>0.25933</td>\n",
       "      <td>0.159</td>\n",
       "      <td>b</td>\n",
       "      <td>0.021502</td>\n",
       "    </tr>\n",
       "    <tr>\n",
       "      <th>4</th>\n",
       "      <td>Si</td>\n",
       "      <td>ix</td>\n",
       "      <td>8</td>\n",
       "      <td>28.08550</td>\n",
       "      <td>5.9</td>\n",
       "      <td>694.738</td>\n",
       "      <td>694.686</td>\n",
       "      <td>0.2490</td>\n",
       "      <td>0.0130</td>\n",
       "      <td>0.14180</td>\n",
       "      <td>0.185</td>\n",
       "      <td>a</td>\n",
       "      <td>0.022828</td>\n",
       "    </tr>\n",
       "    <tr>\n",
       "      <th>5</th>\n",
       "      <td>Fe</td>\n",
       "      <td>viii</td>\n",
       "      <td>7</td>\n",
       "      <td>55.85000</td>\n",
       "      <td>5.8</td>\n",
       "      <td>697.155</td>\n",
       "      <td>697.156</td>\n",
       "      <td>0.2810</td>\n",
       "      <td>0.0200</td>\n",
       "      <td>0.19422</td>\n",
       "      <td>0.154</td>\n",
       "      <td>a</td>\n",
       "      <td>0.028936</td>\n",
       "    </tr>\n",
       "    <tr>\n",
       "      <th>6</th>\n",
       "      <td>Al</td>\n",
       "      <td>ix</td>\n",
       "      <td>8</td>\n",
       "      <td>26.98154</td>\n",
       "      <td>5.9</td>\n",
       "      <td>703.592</td>\n",
       "      <td>703.730</td>\n",
       "      <td>0.2560</td>\n",
       "      <td>0.0860</td>\n",
       "      <td>0.15402</td>\n",
       "      <td>0.185</td>\n",
       "      <td>b</td>\n",
       "      <td>0.142942</td>\n",
       "    </tr>\n",
       "    <tr>\n",
       "      <th>7</th>\n",
       "      <td>Mg</td>\n",
       "      <td>ix</td>\n",
       "      <td>8</td>\n",
       "      <td>24.31000</td>\n",
       "      <td>5.9</td>\n",
       "      <td>706.077</td>\n",
       "      <td>706.060</td>\n",
       "      <td>0.3050</td>\n",
       "      <td>0.0035</td>\n",
       "      <td>0.22853</td>\n",
       "      <td>0.183</td>\n",
       "      <td>a</td>\n",
       "      <td>0.004671</td>\n",
       "    </tr>\n",
       "    <tr>\n",
       "      <th>8</th>\n",
       "      <td>Ar</td>\n",
       "      <td>viii</td>\n",
       "      <td>7</td>\n",
       "      <td>39.94800</td>\n",
       "      <td>5.7</td>\n",
       "      <td>713.784</td>\n",
       "      <td>713.801</td>\n",
       "      <td>0.2820</td>\n",
       "      <td>0.0140</td>\n",
       "      <td>0.19659</td>\n",
       "      <td>0.166</td>\n",
       "      <td>a</td>\n",
       "      <td>0.020082</td>\n",
       "    </tr>\n",
       "    <tr>\n",
       "      <th>9</th>\n",
       "      <td>Mg</td>\n",
       "      <td>ix</td>\n",
       "      <td>8</td>\n",
       "      <td>24.31000</td>\n",
       "      <td>5.9</td>\n",
       "      <td>749.525</td>\n",
       "      <td>749.552</td>\n",
       "      <td>0.3009</td>\n",
       "      <td>0.0092</td>\n",
       "      <td>0.22284</td>\n",
       "      <td>0.195</td>\n",
       "      <td>a</td>\n",
       "      <td>0.012423</td>\n",
       "    </tr>\n",
       "    <tr>\n",
       "      <th>10</th>\n",
       "      <td>Mg</td>\n",
       "      <td>viii</td>\n",
       "      <td>7</td>\n",
       "      <td>24.31000</td>\n",
       "      <td>5.8</td>\n",
       "      <td>762.647</td>\n",
       "      <td>762.660</td>\n",
       "      <td>0.2580</td>\n",
       "      <td>0.0240</td>\n",
       "      <td>0.16264</td>\n",
       "      <td>0.187</td>\n",
       "      <td>a</td>\n",
       "      <td>0.038072</td>\n",
       "    </tr>\n",
       "    <tr>\n",
       "      <th>11</th>\n",
       "      <td>Mg</td>\n",
       "      <td>viii</td>\n",
       "      <td>7</td>\n",
       "      <td>24.31000</td>\n",
       "      <td>5.8</td>\n",
       "      <td>769.411</td>\n",
       "      <td>769.355</td>\n",
       "      <td>0.3050</td>\n",
       "      <td>0.0160</td>\n",
       "      <td>0.23190</td>\n",
       "      <td>0.189</td>\n",
       "      <td>b</td>\n",
       "      <td>0.021044</td>\n",
       "    </tr>\n",
       "    <tr>\n",
       "      <th>12</th>\n",
       "      <td>Ne</td>\n",
       "      <td>viii</td>\n",
       "      <td>7</td>\n",
       "      <td>20.17900</td>\n",
       "      <td>5.8</td>\n",
       "      <td>770.426</td>\n",
       "      <td>770.428</td>\n",
       "      <td>0.3023</td>\n",
       "      <td>0.0017</td>\n",
       "      <td>0.22818</td>\n",
       "      <td>0.191</td>\n",
       "      <td>a</td>\n",
       "      <td>0.002252</td>\n",
       "    </tr>\n",
       "    <tr>\n",
       "      <th>13</th>\n",
       "      <td>Mg</td>\n",
       "      <td>viii</td>\n",
       "      <td>7</td>\n",
       "      <td>24.31000</td>\n",
       "      <td>5.8</td>\n",
       "      <td>772.302</td>\n",
       "      <td>772.260</td>\n",
       "      <td>0.2802</td>\n",
       "      <td>0.0086</td>\n",
       "      <td>0.19722</td>\n",
       "      <td>0.189</td>\n",
       "      <td>a</td>\n",
       "      <td>0.012218</td>\n",
       "    </tr>\n",
       "    <tr>\n",
       "      <th>14</th>\n",
       "      <td>S</td>\n",
       "      <td>x</td>\n",
       "      <td>9</td>\n",
       "      <td>32.06000</td>\n",
       "      <td>6.0</td>\n",
       "      <td>776.242</td>\n",
       "      <td>776.373</td>\n",
       "      <td>0.3580</td>\n",
       "      <td>0.0540</td>\n",
       "      <td>0.29914</td>\n",
       "      <td>0.235</td>\n",
       "      <td>a</td>\n",
       "      <td>0.064625</td>\n",
       "    </tr>\n",
       "    <tr>\n",
       "      <th>15</th>\n",
       "      <td>Ne</td>\n",
       "      <td>viii</td>\n",
       "      <td>7</td>\n",
       "      <td>20.17900</td>\n",
       "      <td>5.8</td>\n",
       "      <td>780.380</td>\n",
       "      <td>780.385</td>\n",
       "      <td>0.3110</td>\n",
       "      <td>0.0030</td>\n",
       "      <td>0.23976</td>\n",
       "      <td>0.193</td>\n",
       "      <td>a</td>\n",
       "      <td>0.003891</td>\n",
       "    </tr>\n",
       "    <tr>\n",
       "      <th>16</th>\n",
       "      <td>Mg</td>\n",
       "      <td>viii</td>\n",
       "      <td>7</td>\n",
       "      <td>24.31000</td>\n",
       "      <td>5.8</td>\n",
       "      <td>782.420</td>\n",
       "      <td>782.362</td>\n",
       "      <td>0.2984</td>\n",
       "      <td>0.0058</td>\n",
       "      <td>0.22288</td>\n",
       "      <td>0.191</td>\n",
       "      <td>a</td>\n",
       "      <td>0.007765</td>\n",
       "    </tr>\n",
       "    <tr>\n",
       "      <th>17</th>\n",
       "      <td>Fe</td>\n",
       "      <td>x</td>\n",
       "      <td>9</td>\n",
       "      <td>55.85000</td>\n",
       "      <td>5.9</td>\n",
       "      <td>1028.040</td>\n",
       "      <td>1028.053</td>\n",
       "      <td>0.3550</td>\n",
       "      <td>0.0110</td>\n",
       "      <td>0.30064</td>\n",
       "      <td>0.253</td>\n",
       "      <td>a</td>\n",
       "      <td>0.012989</td>\n",
       "    </tr>\n",
       "    <tr>\n",
       "      <th>18</th>\n",
       "      <td>Fe</td>\n",
       "      <td>xi</td>\n",
       "      <td>10</td>\n",
       "      <td>55.85000</td>\n",
       "      <td>6.0</td>\n",
       "      <td>1028.990</td>\n",
       "      <td>1028.955</td>\n",
       "      <td>0.3220</td>\n",
       "      <td>0.0300</td>\n",
       "      <td>0.26040</td>\n",
       "      <td>0.287</td>\n",
       "      <td>a</td>\n",
       "      <td>0.037097</td>\n",
       "    </tr>\n",
       "    <tr>\n",
       "      <th>19</th>\n",
       "      <td>O</td>\n",
       "      <td>vi</td>\n",
       "      <td>5</td>\n",
       "      <td>15.99940</td>\n",
       "      <td>5.8</td>\n",
       "      <td>1031.920</td>\n",
       "      <td>1031.912</td>\n",
       "      <td>0.3502</td>\n",
       "      <td>0.0028</td>\n",
       "      <td>0.29440</td>\n",
       "      <td>0.269</td>\n",
       "      <td>a</td>\n",
       "      <td>0.003331</td>\n",
       "    </tr>\n",
       "    <tr>\n",
       "      <th>20</th>\n",
       "      <td>O</td>\n",
       "      <td>vi</td>\n",
       "      <td>5</td>\n",
       "      <td>15.99940</td>\n",
       "      <td>5.8</td>\n",
       "      <td>1037.620</td>\n",
       "      <td>1037.613</td>\n",
       "      <td>0.3456</td>\n",
       "      <td>0.0010</td>\n",
       "      <td>0.28880</td>\n",
       "      <td>0.270</td>\n",
       "      <td>a</td>\n",
       "      <td>0.001197</td>\n",
       "    </tr>\n",
       "    <tr>\n",
       "      <th>21</th>\n",
       "      <td>Si</td>\n",
       "      <td>vii</td>\n",
       "      <td>6</td>\n",
       "      <td>28.08550</td>\n",
       "      <td>5.8</td>\n",
       "      <td>1049.280</td>\n",
       "      <td>1049.153</td>\n",
       "      <td>0.3520</td>\n",
       "      <td>0.0190</td>\n",
       "      <td>0.29595</td>\n",
       "      <td>0.245</td>\n",
       "      <td>a</td>\n",
       "      <td>0.022598</td>\n",
       "    </tr>\n",
       "    <tr>\n",
       "      <th>22</th>\n",
       "      <td>Al</td>\n",
       "      <td>vii</td>\n",
       "      <td>6</td>\n",
       "      <td>26.98154</td>\n",
       "      <td>5.8</td>\n",
       "      <td>1053.860</td>\n",
       "      <td>1053.996</td>\n",
       "      <td>0.3070</td>\n",
       "      <td>0.0330</td>\n",
       "      <td>0.24387</td>\n",
       "      <td>0.247</td>\n",
       "      <td>a</td>\n",
       "      <td>0.041543</td>\n",
       "    </tr>\n",
       "    <tr>\n",
       "      <th>23</th>\n",
       "      <td>Mg</td>\n",
       "      <td>x</td>\n",
       "      <td>9</td>\n",
       "      <td>24.31000</td>\n",
       "      <td>6.0</td>\n",
       "      <td>609.800</td>\n",
       "      <td>609.793</td>\n",
       "      <td>0.1714</td>\n",
       "      <td>0.0022</td>\n",
       "      <td>0.14510</td>\n",
       "      <td>0.174</td>\n",
       "      <td>a</td>\n",
       "      <td>0.002599</td>\n",
       "    </tr>\n",
       "    <tr>\n",
       "      <th>24</th>\n",
       "      <td>Mg</td>\n",
       "      <td>x</td>\n",
       "      <td>9</td>\n",
       "      <td>24.31000</td>\n",
       "      <td>6.0</td>\n",
       "      <td>624.955</td>\n",
       "      <td>624.941</td>\n",
       "      <td>0.1933</td>\n",
       "      <td>0.0030</td>\n",
       "      <td>0.17058</td>\n",
       "      <td>0.175</td>\n",
       "      <td>a</td>\n",
       "      <td>0.003400</td>\n",
       "    </tr>\n",
       "    <tr>\n",
       "      <th>25</th>\n",
       "      <td>Si</td>\n",
       "      <td>x</td>\n",
       "      <td>9</td>\n",
       "      <td>28.08550</td>\n",
       "      <td>6.0</td>\n",
       "      <td>624.720</td>\n",
       "      <td>624.694</td>\n",
       "      <td>0.1450</td>\n",
       "      <td>0.0200</td>\n",
       "      <td>0.11184</td>\n",
       "      <td>0.262</td>\n",
       "      <td>b</td>\n",
       "      <td>0.025930</td>\n",
       "    </tr>\n",
       "  </tbody>\n",
       "</table>\n",
       "</div>"
      ],
      "text/plain": [
       "   ion charge_stat   Z         A  temp   wvl_fit  wvl_chianti  fwhm_fit  \\\n",
       "0   Fe          xi  10  55.85000   6.0   680.439      680.406    0.3450   \n",
       "1   Na          ix   8  22.98977   5.9   681.760      681.719    0.3080   \n",
       "2   Mg        viii   7  24.31000   5.9   689.629      689.641    0.2760   \n",
       "3   Ca          ix   8  40.08000   5.8   691.445      691.424    0.3280   \n",
       "4   Si          ix   8  28.08550   5.9   694.738      694.686    0.2490   \n",
       "5   Fe        viii   7  55.85000   5.8   697.155      697.156    0.2810   \n",
       "6   Al          ix   8  26.98154   5.9   703.592      703.730    0.2560   \n",
       "7   Mg          ix   8  24.31000   5.9   706.077      706.060    0.3050   \n",
       "8   Ar        viii   7  39.94800   5.7   713.784      713.801    0.2820   \n",
       "9   Mg          ix   8  24.31000   5.9   749.525      749.552    0.3009   \n",
       "10  Mg        viii   7  24.31000   5.8   762.647      762.660    0.2580   \n",
       "11  Mg        viii   7  24.31000   5.8   769.411      769.355    0.3050   \n",
       "12  Ne        viii   7  20.17900   5.8   770.426      770.428    0.3023   \n",
       "13  Mg        viii   7  24.31000   5.8   772.302      772.260    0.2802   \n",
       "14   S           x   9  32.06000   6.0   776.242      776.373    0.3580   \n",
       "15  Ne        viii   7  20.17900   5.8   780.380      780.385    0.3110   \n",
       "16  Mg        viii   7  24.31000   5.8   782.420      782.362    0.2984   \n",
       "17  Fe           x   9  55.85000   5.9  1028.040     1028.053    0.3550   \n",
       "18  Fe          xi  10  55.85000   6.0  1028.990     1028.955    0.3220   \n",
       "19   O          vi   5  15.99940   5.8  1031.920     1031.912    0.3502   \n",
       "20   O          vi   5  15.99940   5.8  1037.620     1037.613    0.3456   \n",
       "21  Si         vii   6  28.08550   5.8  1049.280     1049.153    0.3520   \n",
       "22  Al         vii   6  26.98154   5.8  1053.860     1053.996    0.3070   \n",
       "23  Mg           x   9  24.31000   6.0   609.800      609.793    0.1714   \n",
       "24  Mg           x   9  24.31000   6.0   624.955      624.941    0.1933   \n",
       "25  Si           x   9  28.08550   6.0   624.720      624.694    0.1450   \n",
       "\n",
       "    fwhm_err  fwhm_true  fwhm_awsom quality  fwhm_true_err  \n",
       "0     0.0280    0.28048       0.172       b       0.034441  \n",
       "1     0.0054    0.23250       0.175       a       0.007154  \n",
       "2     0.0180    0.18696       0.170       a       0.026573  \n",
       "3     0.0170    0.25933       0.159       b       0.021502  \n",
       "4     0.0130    0.14180       0.185       a       0.022828  \n",
       "5     0.0200    0.19422       0.154       a       0.028936  \n",
       "6     0.0860    0.15402       0.185       b       0.142942  \n",
       "7     0.0035    0.22853       0.183       a       0.004671  \n",
       "8     0.0140    0.19659       0.166       a       0.020082  \n",
       "9     0.0092    0.22284       0.195       a       0.012423  \n",
       "10    0.0240    0.16264       0.187       a       0.038072  \n",
       "11    0.0160    0.23190       0.189       b       0.021044  \n",
       "12    0.0017    0.22818       0.191       a       0.002252  \n",
       "13    0.0086    0.19722       0.189       a       0.012218  \n",
       "14    0.0540    0.29914       0.235       a       0.064625  \n",
       "15    0.0030    0.23976       0.193       a       0.003891  \n",
       "16    0.0058    0.22288       0.191       a       0.007765  \n",
       "17    0.0110    0.30064       0.253       a       0.012989  \n",
       "18    0.0300    0.26040       0.287       a       0.037097  \n",
       "19    0.0028    0.29440       0.269       a       0.003331  \n",
       "20    0.0010    0.28880       0.270       a       0.001197  \n",
       "21    0.0190    0.29595       0.245       a       0.022598  \n",
       "22    0.0330    0.24387       0.247       a       0.041543  \n",
       "23    0.0022    0.14510       0.174       a       0.002599  \n",
       "24    0.0030    0.17058       0.175       a       0.003400  \n",
       "25    0.0200    0.11184       0.262       b       0.025930  "
      ]
     },
     "execution_count": 2,
     "metadata": {},
     "output_type": "execute_result"
    }
   ],
   "source": [
    "sumer_list_excel = pd.read_excel(\"../../save/sumer_line_list_final_v2.xlsx\")\n",
    "sumer_list_excel[\"ion\"] = sumer_list_excel[\"ion\"].str.strip()\n",
    "sumer_list_excel[\"charge_stat\"] = sumer_list_excel[\"charge_stat\"].str.strip()\n",
    "sumer_list_excel[\"quality\"] = sumer_list_excel[\"quality\"].str.strip()\n",
    "sumer_list_excel[\"fwhm_true_err\"] = sumer_list_excel[\"fwhm_fit\"]/sumer_list_excel[\"fwhm_true\"]*sumer_list_excel[\"fwhm_err\"]\n",
    "sumer_list_excel"
   ]
  },
  {
   "cell_type": "code",
   "execution_count": 3,
   "metadata": {},
   "outputs": [],
   "source": [
    "c = const.c.cgs/1.e5"
   ]
  },
  {
   "cell_type": "code",
   "execution_count": 4,
   "metadata": {},
   "outputs": [],
   "source": [
    "def aver_err(data,err,thresh=1.e-5,iter_max=1000):\n",
    "    sigma_sq = np.var(data)\n",
    "    n_data = len(data)\n",
    "\n",
    "    if type(data) is list:\n",
    "        data = np.array(data)\n",
    "    if type(err) is list:\n",
    "        err = np.array(err)\n",
    "\n",
    "    err_sq_mean = np.mean(np.square(err)) \n",
    "    for ii in range(iter_max):\n",
    "        weight = 1./(sigma_sq + err**2)\n",
    "        weight = weight/np.sum(weight)\n",
    "        aver_new = np.sum(weight*data)\n",
    "        sigma_new_sq = np.max([0.,n_data/(n_data - 1.)*np.sum(weight*np.square(data-aver_new)) - \\\n",
    "                                err_sq_mean])\n",
    "        \n",
    "        #print(aver_new,sigma_new_sq)\n",
    "        if ((sigma_new_sq <= sigma_sq*(1+thresh)) and (sigma_sq <= sigma_new_sq*(1+thresh))):\n",
    "            break\n",
    "        else:\n",
    "            sigma_sq = sigma_new_sq\n",
    "        \n",
    "    # if sigma_new_sq == 0:\n",
    "    #     print(\"sigma_new is 0.\")\n",
    "\n",
    "    sigma_tot = np.sqrt(1./np.sum(1./(sigma_new_sq + err**2)))\n",
    "    return aver_new, sigma_tot, sigma_new_sq\n",
    "\n",
    "def plot_eis_awsom_width(df,ion,charge=None,quality=\"a\",plot_awsom=False,plot_mle=False,print_df=True,\n",
    "                        print_veff=False,save_fig=False,save_fname=None,bootstrap=True):\n",
    "    c = const.c.cgs/1.e5\n",
    "\n",
    "    if type(ion) is str:\n",
    "        ion = [ion]\n",
    "    if type(charge) is str:\n",
    "        charge = [charge]\n",
    "    if type(quality) is str:\n",
    "        quality = [quality]\n",
    "    \n",
    "    if charge is None:\n",
    "        df_plot = df[(df[\"ion\"].isin(ion)) & (df[\"quality\"].isin(quality))].copy()\n",
    "    else:\n",
    "        df_plot = df[(df[\"ion\"].isin(ion)) & (df[\"charge_stat\"].isin(charge)) \\\n",
    "                    & (df[\"quality\"].isin(quality))].copy()\n",
    "\n",
    "    line_name = df_plot[\"ion\"] + r\" \\textsc{\"+ df_plot[\"charge_stat\"] + r\"} \" + \\\n",
    "         ((df_plot[\"wvl_chianti\"].values).astype(\"int\")).astype(\"str\")\n",
    "\n",
    "    eis_veff = df_plot[\"fwhm_true\"]/df_plot[\"wvl_chianti\"]*c/np.sqrt(4*np.log(2))\n",
    "\n",
    "    awsom_veff = df_plot[\"fwhm_awsom\"]/df_plot[\"wvl_chianti\"]*c/np.sqrt(4*np.log(2))\n",
    "\n",
    "    eis_veff_err = df_plot[\"fwhm_err\"]*df_plot[\"fwhm_fit\"] \\\n",
    "                    /df_plot[\"fwhm_true\"]/df_plot[\"wvl_chianti\"]*c/np.sqrt(4*np.log(2))\n",
    "\n",
    "    df_plot[\"eis_veff\"] = eis_veff\n",
    "    df_plot[\"awsom_veff\"] = awsom_veff\n",
    "    df_plot[\"eis_veff_err\"] = eis_veff_err\n",
    "\n",
    "    n_lines = len(df_plot.index)\n",
    "    plot_x = np.arange(n_lines)\n",
    "\n",
    "    fig, ax = plt.subplots(figsize=(n_lines*1.2+2,6),constrained_layout=True)\n",
    "\n",
    "    if plot_mle is True:\n",
    "        best_est,err_tot, err_est_sq = aver_err(eis_veff,eis_veff_err)\n",
    "        best_low1sig,best_up1sig = best_est - err_tot, best_est + err_tot\n",
    "        best_low3sig,best_up3sig = best_est - 3*err_tot, best_est + 3*err_tot\n",
    "        aver_bootstrap = np.zeros(10000)\n",
    "        if bootstrap is True:\n",
    "            for ii in range(10000):\n",
    "                data = np.random.normal(best_est,np.sqrt(err_est_sq),len(eis_veff))\n",
    "                epsilon = np.random.normal(0,eis_veff_err)\n",
    "                data_gen = data + epsilon\n",
    "                aver_bootstrap[ii], _, _ = aver_err(data_gen,eis_veff_err) \n",
    "            best_low3sig,best_low1sig,best_est,best_up1sig,best_up1sigbest_up3sig = \\\n",
    "                np.percentile(aver_bootstrap,[0.15,16,50,84,99.85])\n",
    "\n",
    "\n",
    "\n",
    "        ax.axhspan(best_low1sig,best_up1sig,color=\"#FAD689\",alpha=0.9)\n",
    "        ax.axhspan(best_low3sig,best_up3sig,color=\"#FAD689\",alpha=0.5)\n",
    "        ax.axhline(best_est,color=\"#FFB11B\",lw=2,ls=\"--\",label=r\"$\\bar{v}_{\\rm eff}$\")\n",
    "    \n",
    "    if plot_awsom:    \n",
    "        ax.scatter(plot_x,awsom_veff,color=\"#0089A7\",marker=\"d\",\n",
    "                    lw=3,label=\"AWSoM\",zorder=15)\n",
    "    ax.errorbar(plot_x,eis_veff,eis_veff_err,color=\"#CC543A\",ls=\"none\",marker=\"o\",\n",
    "                markersize=6,capsize=5,lw=2,label=\"SUMER\",zorder=15)\n",
    "\n",
    "\n",
    "    # ax.scatter(plot_x,awsom_veff,color=\"#0089A7\",marker=\"o\",\n",
    "    #             lw=3,label=\"AWSoM\",zorder=14)\n",
    "\n",
    "\n",
    "    ax.set_xlim(left=-1,right=len(line_name))\n",
    "    ax.set_xticks(plot_x)\n",
    "    ax.set_xticklabels(line_name)\n",
    "    ax.tick_params(labelsize=16)\n",
    "    ax.set_xlabel(\"Line\",fontsize=16)\n",
    "    ax.set_ylabel(r\"Effective Velocity $v_{\\rm eff}\\ \\left[\\mathrm{km \\cdot s^{-1}} \\right]$\",\n",
    "                    fontsize=16)\n",
    "\n",
    "    if charge is not None:\n",
    "        title = r\"\\textbf{\" + ion[0] + ' '.join([r\" \\textsc{\" + charge_ +r\"} \" for charge_ in charge]) + \\\n",
    "                r\"}\"\n",
    "    else:\n",
    "        title = r\"\\textbf{\" + ion[0] + r\"}\"\n",
    "\n",
    "    if (plot_mle is True) and (bootstrap is False):\n",
    "        title = title + r\" $\\bar{{v}}_{{\\rm eff}} = {{{:.1f}}}\\pm{{{:.1f}}}\\ \\left[\\mathrm{{km \\cdot s^{{-1}}}}\\right]$\".format(best_est,err_tot)\n",
    "    elif (plot_mle is True) and (bootstrap is True):\n",
    "        title = title + \\\n",
    "        r\" $\\bar{{v}}_{{\\rm eff}} = {{{:.1f}}}_{{-{:.1f}}}^{{+{:.1f}}}\\ \\left[\\mathrm{{km \\cdot s^{{-1}}}}\\right]$\". \\\n",
    "            format(best_est,best_est-best_low1sig,best_up1sig-best_est)\n",
    "    ax.set_title(title,fontsize=18,pad=10)\n",
    "    ax.tick_params(which=\"major\",width=1.2,length=8,direction=\"in\")\n",
    "    ax.tick_params(which=\"minor\",width=1.2,length=4,direction=\"in\")\n",
    "    ax.grid(\"on\")\n",
    "    ax.legend(loc = 'lower left',fontsize = 18,frameon=False,handlelength=1)\n",
    "\n",
    "    if print_df:\n",
    "        print(df_plot)\n",
    "\n",
    "    if print_veff:\n",
    "        print(eis_veff)\n",
    "        print(eis_veff_err)\n",
    "    \n",
    "    if save_fig:\n",
    "        plt.savefig(fname=save_fname,format=save_fname[-3:])"
   ]
  },
  {
   "cell_type": "code",
   "execution_count": 5,
   "metadata": {},
   "outputs": [
    {
     "name": "stdout",
     "output_type": "stream",
     "text": [
      "   ion charge_stat  Z      A  temp  wvl_fit  wvl_chianti  fwhm_fit  fwhm_err  \\\n",
      "2   Mg        viii  7  24.31   5.9  689.629      689.641    0.2760    0.0180   \n",
      "10  Mg        viii  7  24.31   5.8  762.647      762.660    0.2580    0.0240   \n",
      "13  Mg        viii  7  24.31   5.8  772.302      772.260    0.2802    0.0086   \n",
      "16  Mg        viii  7  24.31   5.8  782.420      782.362    0.2984    0.0058   \n",
      "\n",
      "    fwhm_true  fwhm_awsom quality  fwhm_true_err   eis_veff  awsom_veff  \\\n",
      "2     0.18696       0.170       a       0.026573  48.809415   44.381689   \n",
      "10    0.16264       0.187       a       0.038072  38.394974   44.145721   \n",
      "13    0.19722       0.189       a       0.012218  45.979621   44.063221   \n",
      "16    0.22288       0.191       a       0.007765  51.291019   43.954525   \n",
      "\n",
      "    eis_veff_err  \n",
      "2       6.937257  \n",
      "10      8.987742  \n",
      "13      2.848591  \n",
      "16      1.787006  \n"
     ]
    },
    {
     "data": {
      "image/png": "[encoded data removed]",
      "text/plain": [
       "<Figure size 489.6x432 with 1 Axes>"
      ]
     },
     "metadata": {
      "needs_background": "light"
     },
     "output_type": "display_data"
    }
   ],
   "source": [
    "plot_eis_awsom_width(sumer_list_excel,\"Mg\",charge=\"viii\",plot_mle=True,print_df=True)"
   ]
  },
  {
   "cell_type": "code",
   "execution_count": 6,
   "metadata": {},
   "outputs": [
    {
     "name": "stdout",
     "output_type": "stream",
     "text": [
      "  ion charge_stat  Z      A  temp  wvl_fit  wvl_chianti  fwhm_fit  fwhm_err  \\\n",
      "7  Mg          ix  8  24.31   5.9  706.077      706.060    0.3050    0.0035   \n",
      "9  Mg          ix  8  24.31   5.9  749.525      749.552    0.3009    0.0092   \n",
      "\n",
      "   fwhm_true  fwhm_awsom quality  fwhm_true_err   eis_veff  awsom_veff  \\\n",
      "7    0.22853       0.183       a       0.004671  58.274638   46.664590   \n",
      "9    0.22284       0.195       a       0.012423  53.526563   46.839346   \n",
      "\n",
      "   eis_veff_err  \n",
      "7      1.191135  \n",
      "9      2.983961  \n"
     ]
    },
    {
     "data": {
      "image/png": "[encoded data removed]",
      "text/plain": [
       "<Figure size 316.8x432 with 1 Axes>"
      ]
     },
     "metadata": {
      "needs_background": "light"
     },
     "output_type": "display_data"
    }
   ],
   "source": [
    "plot_eis_awsom_width(sumer_list_excel,\"Mg\",charge=\"ix\",plot_mle=True)"
   ]
  },
  {
   "cell_type": "code",
   "execution_count": 7,
   "metadata": {},
   "outputs": [
    {
     "name": "stdout",
     "output_type": "stream",
     "text": [
      "   ion charge_stat  Z      A  temp  wvl_fit  wvl_chianti  fwhm_fit  fwhm_err  \\\n",
      "23  Mg           x  9  24.31   6.0  609.800      609.793    0.1714    0.0022   \n",
      "24  Mg           x  9  24.31   6.0  624.955      624.941    0.1933    0.0030   \n",
      "\n",
      "    fwhm_true  fwhm_awsom quality  fwhm_true_err   eis_veff  awsom_veff  \\\n",
      "23    0.14510       0.174       a       0.002599  42.841331   51.374167   \n",
      "24    0.17058       0.175       a       0.003400  49.143611   50.417001   \n",
      "\n",
      "    eis_veff_err  \n",
      "23      0.767294  \n",
      "24      0.979409  \n"
     ]
    },
    {
     "data": {
      "image/png": "[encoded data removed]",
      "text/plain": [
       "<Figure size 316.8x432 with 1 Axes>"
      ]
     },
     "metadata": {
      "needs_background": "light"
     },
     "output_type": "display_data"
    }
   ],
   "source": [
    "plot_eis_awsom_width(sumer_list_excel,\"Mg\",charge=\"x\",plot_mle=True)"
   ]
  },
  {
   "cell_type": "code",
   "execution_count": 8,
   "metadata": {},
   "outputs": [
    {
     "name": "stdout",
     "output_type": "stream",
     "text": [
      "  ion charge_stat  Z      A  temp  wvl_fit  wvl_chianti  fwhm_fit  fwhm_err  \\\n",
      "5  Fe        viii  7  55.85   5.8  697.155      697.156     0.281      0.02   \n",
      "\n",
      "   fwhm_true  fwhm_awsom quality  fwhm_true_err   eis_veff  awsom_veff  \\\n",
      "5    0.19422       0.154       a       0.028936  50.158202   39.771203   \n",
      "\n",
      "   eis_veff_err  \n",
      "5      7.472921  \n"
     ]
    },
    {
     "data": {
      "image/png": "[encoded data removed]",
      "text/plain": [
       "<Figure size 230.4x432 with 1 Axes>"
      ]
     },
     "metadata": {
      "needs_background": "light"
     },
     "output_type": "display_data"
    }
   ],
   "source": [
    "plot_eis_awsom_width(sumer_list_excel,\"Fe\",charge=\"viii\",print_df=True)"
   ]
  },
  {
   "cell_type": "code",
   "execution_count": 9,
   "metadata": {},
   "outputs": [
    {
     "name": "stdout",
     "output_type": "stream",
     "text": [
      "   ion charge_stat  Z      A  temp  wvl_fit  wvl_chianti  fwhm_fit  fwhm_err  \\\n",
      "17  Fe           x  9  55.85   5.9  1028.04     1028.053     0.355     0.011   \n",
      "\n",
      "    fwhm_true  fwhm_awsom quality  fwhm_true_err   eis_veff  awsom_veff  \\\n",
      "17    0.30064       0.253       a       0.012989  52.651316   44.308086   \n",
      "\n",
      "    eis_veff_err  \n",
      "17      2.274766  \n"
     ]
    },
    {
     "data": {
      "image/png": "[encoded data removed]",
      "text/plain": [
       "<Figure size 230.4x432 with 1 Axes>"
      ]
     },
     "metadata": {
      "needs_background": "light"
     },
     "output_type": "display_data"
    }
   ],
   "source": [
    "plot_eis_awsom_width(sumer_list_excel,\"Fe\",charge=\"x\",print_df=True)"
   ]
  },
  {
   "cell_type": "code",
   "execution_count": 10,
   "metadata": {},
   "outputs": [
    {
     "name": "stdout",
     "output_type": "stream",
     "text": [
      "   ion charge_stat   Z      A  temp  wvl_fit  wvl_chianti  fwhm_fit  fwhm_err  \\\n",
      "18  Fe          xi  10  55.85   6.0  1028.99     1028.955     0.322      0.03   \n",
      "\n",
      "    fwhm_true  fwhm_awsom quality  fwhm_true_err   eis_veff  awsom_veff  \\\n",
      "18     0.2604       0.287       a       0.037097  45.564077   50.218472   \n",
      "\n",
      "    eis_veff_err  \n",
      "18      6.491092  \n"
     ]
    },
    {
     "data": {
      "image/png": "[encoded data removed]",
      "text/plain": [
       "<Figure size 230.4x432 with 1 Axes>"
      ]
     },
     "metadata": {
      "needs_background": "light"
     },
     "output_type": "display_data"
    }
   ],
   "source": [
    "plot_eis_awsom_width(sumer_list_excel,ion=\"Fe\",charge=\"xi\",print_df=True)"
   ]
  },
  {
   "cell_type": "code",
   "execution_count": 11,
   "metadata": {},
   "outputs": [
    {
     "name": "stdout",
     "output_type": "stream",
     "text": [
      "  ion charge_stat  Z         A  temp  wvl_fit  wvl_chianti  fwhm_fit  \\\n",
      "1  Na          ix  8  22.98977   5.9   681.76      681.719     0.308   \n",
      "\n",
      "   fwhm_err  fwhm_true  fwhm_awsom quality  fwhm_true_err   eis_veff  \\\n",
      "1    0.0054     0.2325       0.175       a       0.007154  61.403841   \n",
      "\n",
      "   awsom_veff  eis_veff_err  \n",
      "1   46.217945       1.88927  \n"
     ]
    },
    {
     "data": {
      "image/png": "[encoded data removed]",
      "text/plain": [
       "<Figure size 230.4x432 with 1 Axes>"
      ]
     },
     "metadata": {
      "needs_background": "light"
     },
     "output_type": "display_data"
    }
   ],
   "source": [
    "plot_eis_awsom_width(sumer_list_excel,\"Na\",charge=\"ix\",print_df=True)"
   ]
  },
  {
   "cell_type": "code",
   "execution_count": 12,
   "metadata": {},
   "outputs": [
    {
     "name": "stdout",
     "output_type": "stream",
     "text": [
      "  ion charge_stat  Z       A  temp  wvl_fit  wvl_chianti  fwhm_fit  fwhm_err  \\\n",
      "8  Ar        viii  7  39.948   5.7  713.784      713.801     0.282     0.014   \n",
      "\n",
      "   fwhm_true  fwhm_awsom quality  fwhm_true_err   eis_veff  awsom_veff  \\\n",
      "8    0.19659       0.166       a       0.020082  49.586362   41.870574   \n",
      "\n",
      "   eis_veff_err  \n",
      "8      5.065433  \n"
     ]
    },
    {
     "data": {
      "image/png": "[encoded data removed]",
      "text/plain": [
       "<Figure size 230.4x432 with 1 Axes>"
      ]
     },
     "metadata": {
      "needs_background": "light"
     },
     "output_type": "display_data"
    }
   ],
   "source": [
    "plot_eis_awsom_width(sumer_list_excel,\"Ar\",\"viii\",print_df=True)"
   ]
  },
  {
   "cell_type": "code",
   "execution_count": 13,
   "metadata": {},
   "outputs": [
    {
     "name": "stdout",
     "output_type": "stream",
     "text": [
      "   ion charge_stat  Z        A  temp  wvl_fit  wvl_chianti  fwhm_fit  \\\n",
      "19   O          vi  5  15.9994   5.8  1031.92     1031.912    0.3502   \n",
      "20   O          vi  5  15.9994   5.8  1037.62     1037.613    0.3456   \n",
      "\n",
      "    fwhm_err  fwhm_true  fwhm_awsom quality  fwhm_true_err   eis_veff  \\\n",
      "19    0.0028     0.2944       0.269       a       0.003331  51.365689   \n",
      "20    0.0010     0.2888       0.270       a       0.001197  50.111772   \n",
      "\n",
      "    awsom_veff  eis_veff_err  \n",
      "19   46.934003      0.581128  \n",
      "20   46.849648      0.207644  \n"
     ]
    },
    {
     "data": {
      "image/png": "[encoded data removed]",
      "text/plain": [
       "<Figure size 316.8x432 with 1 Axes>"
      ]
     },
     "metadata": {
      "needs_background": "light"
     },
     "output_type": "display_data"
    }
   ],
   "source": [
    "plot_eis_awsom_width(sumer_list_excel,\"O\",\"vi\",plot_mle=True)"
   ]
  },
  {
   "cell_type": "code",
   "execution_count": 14,
   "metadata": {},
   "outputs": [
    {
     "name": "stdout",
     "output_type": "stream",
     "text": [
      "   ion charge_stat  Z      A  temp  wvl_fit  wvl_chianti  fwhm_fit  fwhm_err  \\\n",
      "14   S           x  9  32.06   6.0  776.242      776.373     0.358     0.054   \n",
      "\n",
      "    fwhm_true  fwhm_awsom quality  fwhm_true_err   eis_veff  awsom_veff  \\\n",
      "14    0.29914       0.235       a       0.064625  69.371653   54.497354   \n",
      "\n",
      "    eis_veff_err  \n",
      "14     14.986832  \n"
     ]
    },
    {
     "data": {
      "image/png": "[encoded data removed]",
      "text/plain": [
       "<Figure size 230.4x432 with 1 Axes>"
      ]
     },
     "metadata": {
      "needs_background": "light"
     },
     "output_type": "display_data"
    }
   ],
   "source": [
    "plot_eis_awsom_width(sumer_list_excel,\"S\",\"x\",print_df=True)"
   ]
  },
  {
   "cell_type": "code",
   "execution_count": 15,
   "metadata": {},
   "outputs": [
    {
     "name": "stdout",
     "output_type": "stream",
     "text": [
      "   ion charge_stat  Z       A  temp  wvl_fit  wvl_chianti  fwhm_fit  fwhm_err  \\\n",
      "12  Ne        viii  7  20.179   5.8  770.426      770.428    0.3023    0.0017   \n",
      "15  Ne        viii  7  20.179   5.8  780.380      780.385    0.3110    0.0030   \n",
      "\n",
      "    fwhm_true  fwhm_awsom quality  fwhm_true_err   eis_veff  awsom_veff  \\\n",
      "12    0.22818       0.191       a       0.002252  53.324095   44.635385   \n",
      "15    0.23976       0.193       a       0.003891  55.315366   44.527301   \n",
      "\n",
      "    eis_veff_err  \n",
      "12      0.526327  \n",
      "15      0.897788  \n"
     ]
    },
    {
     "data": {
      "image/png": "[encoded data removed]",
      "text/plain": [
       "<Figure size 316.8x432 with 1 Axes>"
      ]
     },
     "metadata": {
      "needs_background": "light"
     },
     "output_type": "display_data"
    }
   ],
   "source": [
    "plot_eis_awsom_width(sumer_list_excel,\"Ne\",\"viii\",plot_mle=True)"
   ]
  },
  {
   "cell_type": "code",
   "execution_count": 16,
   "metadata": {},
   "outputs": [
    {
     "name": "stdout",
     "output_type": "stream",
     "text": [
      "   ion charge_stat  Z        A  temp  wvl_fit  wvl_chianti  fwhm_fit  \\\n",
      "21  Si         vii  6  28.0855   5.8  1049.28     1049.153     0.352   \n",
      "\n",
      "    fwhm_err  fwhm_true  fwhm_awsom quality  fwhm_true_err   eis_veff  \\\n",
      "21     0.019    0.29595       0.245       a       0.022598  50.787577   \n",
      "\n",
      "    awsom_veff  eis_veff_err  \n",
      "21   42.044117      3.878083  \n"
     ]
    },
    {
     "data": {
      "image/png": "[encoded data removed]",
      "text/plain": [
       "<Figure size 230.4x432 with 1 Axes>"
      ]
     },
     "metadata": {
      "needs_background": "light"
     },
     "output_type": "display_data"
    }
   ],
   "source": [
    "plot_eis_awsom_width(sumer_list_excel,\"Si\",\"vii\",print_df=True)"
   ]
  },
  {
   "cell_type": "code",
   "execution_count": 17,
   "metadata": {},
   "outputs": [
    {
     "name": "stdout",
     "output_type": "stream",
     "text": [
      "  ion charge_stat  Z        A  temp  wvl_fit  wvl_chianti  fwhm_fit  fwhm_err  \\\n",
      "4  Si          ix  8  28.0855   5.9  694.738      694.686     0.249     0.013   \n",
      "\n",
      "   fwhm_true  fwhm_awsom quality  fwhm_true_err   eis_veff  awsom_veff  \\\n",
      "4     0.1418       0.185       a       0.022828  36.750704   47.946969   \n",
      "\n",
      "   eis_veff_err  \n",
      "4      5.916378  \n"
     ]
    },
    {
     "data": {
      "image/png": "[encoded data removed]",
      "text/plain": [
       "<Figure size 230.4x432 with 1 Axes>"
      ]
     },
     "metadata": {
      "needs_background": "light"
     },
     "output_type": "display_data"
    }
   ],
   "source": [
    "plot_eis_awsom_width(sumer_list_excel,\"Si\",\"ix\",print_df=True)"
   ]
  },
  {
   "cell_type": "code",
   "execution_count": 18,
   "metadata": {},
   "outputs": [
    {
     "name": "stdout",
     "output_type": "stream",
     "text": [
      "  ion charge_stat  Z         A  temp  wvl_fit  wvl_chianti  fwhm_fit  \\\n",
      "6  Al          ix  8  26.98154   5.9  703.592       703.73     0.256   \n",
      "\n",
      "   fwhm_err  fwhm_true  fwhm_awsom quality  fwhm_true_err   eis_veff  \\\n",
      "6     0.086    0.15402       0.185       b       0.142942  39.404791   \n",
      "\n",
      "   awsom_veff  eis_veff_err  \n",
      "6   47.330778     36.570695  \n"
     ]
    },
    {
     "data": {
      "image/png": "[encoded data removed]",
      "text/plain": [
       "<Figure size 230.4x432 with 1 Axes>"
      ]
     },
     "metadata": {
      "needs_background": "light"
     },
     "output_type": "display_data"
    }
   ],
   "source": [
    "plot_eis_awsom_width(sumer_list_excel,\"Al\",\"ix\",quality=[\"a\",\"b\"],print_df=True)"
   ]
  },
  {
   "cell_type": "code",
   "execution_count": 19,
   "metadata": {},
   "outputs": [
    {
     "name": "stdout",
     "output_type": "stream",
     "text": [
      "   ion charge_stat  Z         A  temp  wvl_fit  wvl_chianti  fwhm_fit  \\\n",
      "22  Al         vii  6  26.98154   5.8  1053.86     1053.996     0.307   \n",
      "\n",
      "    fwhm_err  fwhm_true  fwhm_awsom quality  fwhm_true_err   eis_veff  \\\n",
      "22     0.033    0.24387       0.247       a       0.041543  41.657902   \n",
      "\n",
      "    awsom_veff  eis_veff_err  \n",
      "22   42.192569      7.096316  \n"
     ]
    },
    {
     "data": {
      "image/png": "[encoded data removed]",
      "text/plain": [
       "<Figure size 230.4x432 with 1 Axes>"
      ]
     },
     "metadata": {
      "needs_background": "light"
     },
     "output_type": "display_data"
    }
   ],
   "source": [
    "plot_eis_awsom_width(sumer_list_excel,\"Al\",\"vii\",quality=[\"a\",\"b\"],print_df=True)"
   ]
  },
  {
   "cell_type": "code",
   "execution_count": 20,
   "metadata": {},
   "outputs": [
    {
     "name": "stdout",
     "output_type": "stream",
     "text": [
      "   ion charge_stat  Z        A  temp  wvl_fit  wvl_chianti  fwhm_fit  \\\n",
      "25  Si           x  9  28.0855   6.0   624.72      624.694     0.145   \n",
      "\n",
      "    fwhm_err  fwhm_true  fwhm_awsom quality  fwhm_true_err   eis_veff  \\\n",
      "25      0.02    0.11184       0.262       b        0.02593  32.233525   \n",
      "\n",
      "    awsom_veff  eis_veff_err  \n",
      "25   75.511298      7.473284  \n"
     ]
    },
    {
     "data": {
      "image/png": "[encoded data removed]",
      "text/plain": [
       "<Figure size 230.4x432 with 1 Axes>"
      ]
     },
     "metadata": {
      "needs_background": "light"
     },
     "output_type": "display_data"
    }
   ],
   "source": [
    "plot_eis_awsom_width(sumer_list_excel,\"Si\",\"x\",quality=[\"a\",\"b\"],print_df=True)"
   ]
  }
 ],
 "metadata": {
  "interpreter": {
   "hash": "398dc28c06ad810e77de546bbdfa897a6ee0b83e59a5207339dda01a7843e01d"
  },
  "kernelspec": {
   "display_name": "Python 3.7.3 64-bit ('base': conda)",
   "name": "python3"
  },
  "language_info": {
   "codemirror_mode": {
    "name": "ipython",
    "version": 3
   },
   "file_extension": ".py",
   "mimetype": "text/x-python",
   "name": "python",
   "nbconvert_exporter": "python",
   "pygments_lexer": "ipython3",
   "version": "3.7.12"
  },
  "orig_nbformat": 4
 },
 "nbformat": 4,
 "nbformat_minor": 2
}
