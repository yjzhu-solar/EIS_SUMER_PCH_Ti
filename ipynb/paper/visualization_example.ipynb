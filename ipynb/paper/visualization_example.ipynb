{
 "cells": [
  {
   "cell_type": "code",
   "execution_count": 41,
   "metadata": {},
   "outputs": [],
   "source": [
    "import numpy as np\n",
    "import matplotlib.pyplot as plt\n",
    "from matplotlib.ticker import (MultipleLocator, AutoMinorLocator)\n",
    "from matplotlib import transforms\n",
    "import astropy.constants as const\n",
    "import pandas as pd\n",
    "import cmcrameri.cm as cmcm\n",
    "from matplotlib import rcParams\n",
    "plt.style.use('science_dark')\n",
    "rcParams['text.usetex'] = True\n",
    "rcParams['text.latex.preamble'] = r'\\usepackage[T1]{fontenc} \\usepackage{amsmath} \\usepackage{color}'\n",
    "rcParams['font.family'] = 'serif'\n",
    "rcParams['axes.linewidth'] = 2\n",
    "rcParams['xtick.major.width'] = 1.2\n",
    "rcParams['xtick.major.size'] = 10\n",
    "rcParams['xtick.minor.width'] = 1.2\n",
    "rcParams['xtick.minor.size'] = 6\n",
    "rcParams['ytick.major.width'] = 1.2\n",
    "rcParams['ytick.major.size'] = 8\n",
    "rcParams['ytick.minor.width'] = 1.2\n",
    "rcParams['ytick.minor.size'] = 6 "
   ]
  },
  {
   "cell_type": "code",
   "execution_count": 16,
   "metadata": {},
   "outputs": [],
   "source": [
    "example_data = []\n",
    "\n",
    "example_data.append(dict(\n",
    "        q1=0.3,\n",
    "        q3=0.7,\n",
    "        whislo=0.,\n",
    "        whishi=0.9,\n",
    "        mean=0,iqr=0,cilo=0,cihi=0,fliers=np.array([]),med=0\n",
    "    ))"
   ]
  },
  {
   "cell_type": "code",
   "execution_count": 73,
   "metadata": {},
   "outputs": [
    {
     "data": {
      "image/png": "[encoded data removed]",
      "text/plain": [
       "<Figure size 288x432 with 1 Axes>"
      ]
     },
     "metadata": {},
     "output_type": "display_data"
    }
   ],
   "source": [
    "color_sumer = cmcm.batlow(0.75)\n",
    "color_eis = cmcm.batlow(0.75)\n",
    "color_max = cmcm.batlow(0.9)\n",
    "color_min = \"#F9BF45\"\n",
    "fig, ax = plt.subplots(figsize=(4,6),constrained_layout=True)\n",
    "eis_boxprops = dict(edgecolor=color_eis,facecolor=color_eis,alpha=0.7)\n",
    "eis_capprops = dict(color=color_eis,alpha=0.7,linewidth=1.5)\n",
    "eis_whiskerprops = dict(color=color_eis,alpha=0.7,linewidth=1.5)\n",
    "medianprops= dict(linewidth=0)\n",
    "\n",
    "eis_bp = ax.bxp(example_data,showmeans=False,boxprops=eis_boxprops,capprops=eis_capprops,\n",
    "        whiskerprops=eis_whiskerprops,medianprops=medianprops,widths=0.0015,patch_artist=True,\n",
    "        positions=[0],manage_ticks=False)\n",
    "\n",
    "ax.annotate(r\"$\\boldsymbol{T_{i,\\mathrm{max}}}$\",(0.52,0.7),(0.7,0.75),xycoords=(\"axes fraction\",\"data\"),textcoords=(\"axes fraction\",\"data\"),\n",
    "    fontsize=22,color=color_max,ha=\"center\",va=\"bottom\",arrowprops=dict(edgecolor=color_max,arrowstyle=\"-\",lw=2))\n",
    "\n",
    "ax.annotate(r\"$\\boldsymbol{T_{i,\\mathrm{min}}}$\",(0.52,0.3),(0.7,0.25),xycoords=(\"axes fraction\",\"data\"),textcoords=(\"axes fraction\",\"data\"),\n",
    "    fontsize=22,color=color_min,ha=\"center\",va=\"top\",arrowprops=dict(edgecolor=color_min,arrowstyle=\"-\",lw=2))\n",
    "\n",
    "eqn = (r\"\\begin{equation*}\"\n",
    "       r\"\\Biggl\\{\"\n",
    "       r\"\\end{equation*}\")\n",
    "\n",
    "ax.text(0.37,0.51,eqn,color=\"white\",fontsize=50,transform=ax.transAxes)\n",
    "ax.text(0.3,0.51,r\"\\textbf{Possible} $T_i$\",color=\"white\",fontsize=22,transform=ax.transAxes,rotation=90,va=\"center\",ha=\"center\")\n",
    "ax.set_xlim(-0.04,0.04)\n",
    "ax.set_xticks([])\n",
    "ax.set_yticks([])\n",
    "ax.set_ylabel(r\"\\textbf{Ion Temperature} $\\boldsymbol{T_i\\ \\left[\\mathrm{K}\\right]}$\",fontsize=18)\n",
    "ax.set_xlabel(r\"\\textbf{Charge to Mass Ratio} $\\boldsymbol{Z/A}$\",fontsize=18,labelpad=15)\n",
    "plt.savefig(\"../../figs/visualize_example.pdf\",format=\"pdf\",transparent=True)\n"
   ]
  },
  {
   "cell_type": "code",
   "execution_count": null,
   "metadata": {},
   "outputs": [],
   "source": []
  },
  {
   "cell_type": "code",
   "execution_count": 7,
   "metadata": {},
   "outputs": [
    {
     "data": {
      "text/plain": [
       "10"
      ]
     },
     "execution_count": 7,
     "metadata": {},
     "output_type": "execute_result"
    }
   ],
   "source": [
    "len(example_data)"
   ]
  }
 ],
 "metadata": {
  "interpreter": {
   "hash": "398dc28c06ad810e77de546bbdfa897a6ee0b83e59a5207339dda01a7843e01d"
  },
  "kernelspec": {
   "display_name": "Python 3.7.12 ('base')",
   "language": "python",
   "name": "python3"
  },
  "language_info": {
   "codemirror_mode": {
    "name": "ipython",
    "version": 3
   },
   "file_extension": ".py",
   "mimetype": "text/x-python",
   "name": "python",
   "nbconvert_exporter": "python",
   "pygments_lexer": "ipython3",
   "version": "3.7.12"
  },
  "orig_nbformat": 4
 },
 "nbformat": 4,
 "nbformat_minor": 2
}
