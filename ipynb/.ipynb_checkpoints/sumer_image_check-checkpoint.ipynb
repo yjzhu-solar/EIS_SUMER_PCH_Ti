{
 "cells": [
  {
   "cell_type": "code",
   "execution_count": 8,
   "metadata": {},
   "outputs": [],
   "source": [
    "import numpy as np\n",
    "import numpy.ma as ma\n",
    "import matplotlib.pyplot as plt\n",
    "plt.style.use('science')\n",
    "import scipy.io"
   ]
  },
  {
   "cell_type": "code",
   "execution_count": 5,
   "metadata": {},
   "outputs": [],
   "source": [
    "image_1 = scipy.io.readsav(\"../raw_data/sumer/20071116/level1/sum_r_20071116_09011087.0338_l1.sav\")[\"image_lvl1\"]\n",
    "image_2 = scipy.io.readsav(\"../raw_data/sumer/20071116/level1/sum_r_20071116_09061087.0338_l1.sav\")[\"image_lvl1\"]\n",
    "image_3 = scipy.io.readsav(\"../raw_data/sumer/20071116/level1/sum_r_20071116_09111087.0338_l1.sav\")[\"image_lvl1\"]"
   ]
  },
  {
   "cell_type": "code",
   "execution_count": 12,
   "metadata": {},
   "outputs": [
    {
     "data": {
      "text/plain": [
       "(360, 1024)"
      ]
     },
     "execution_count": 12,
     "metadata": {},
     "output_type": "execute_result"
    }
   ],
   "source": [
    "image_1.shape"
   ]
  },
  {
   "cell_type": "code",
   "execution_count": 9,
   "metadata": {},
   "outputs": [],
   "source": [
    "#A function to average every N rows...\n",
    "def avg_new(my_array, N=2):\n",
    "    return ma.mean(my_array.reshape(-1,N,my_array.shape[-1]),axis=1)\n",
    "\n",
    "def avg_err(my_array, N=2):\n",
    "    my_reshape_sq = np.square(my_array.reshape(-1,N,my_array.shape[-1]))\n",
    "    mask_reshape_sq = np.logical_not(my_reshape_sq.mask) * 1\n",
    "    return np.sqrt(ma.sum(my_reshape_sq, axis = 1))/ma.sum(mask_reshape_sq, axis = 1)"
   ]
  },
  {
   "cell_type": "code",
   "execution_count": 14,
   "metadata": {},
   "outputs": [],
   "source": [
    "FeXI_680_1 = avg_new(image_1[6:306,192-22:192+14],N=10)\n",
    "FeXI_680_2 = avg_new(image_2[6:306,192-22:192+14],N=10)\n",
    "FeXI_680_3 = avg_new(image_3[6:306,192-22:192+14],N=10)"
   ]
  },
  {
   "cell_type": "code",
   "execution_count": null,
   "metadata": {},
   "outputs": [],
   "source": [
    "fig, axes = plt.subplots(5,3,figsize=(12,8))\n",
    "for ii in range(15):\n",
    "    axes.flatten()[ii].step"
   ]
  }
 ],
 "metadata": {
  "kernelspec": {
   "display_name": "Python 3",
   "language": "python",
   "name": "python3"
  },
  "language_info": {
   "codemirror_mode": {
    "name": "ipython",
    "version": 3
   },
   "file_extension": ".py",
   "mimetype": "text/x-python",
   "name": "python",
   "nbconvert_exporter": "python",
   "pygments_lexer": "ipython3",
   "version": "3.7.3"
  }
 },
 "nbformat": 4,
 "nbformat_minor": 4
}
