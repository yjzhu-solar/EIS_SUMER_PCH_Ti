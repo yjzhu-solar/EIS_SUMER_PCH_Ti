{
 "cells": [
  {
   "cell_type": "code",
   "execution_count": 1,
   "metadata": {},
   "outputs": [],
   "source": [
    "import numpy as np\n",
    "import numpy.ma as ma\n",
    "import matplotlib.pyplot as plt\n",
    "import matplotlib.cm as cm\n",
    "from matplotlib import colors\n",
    "from matplotlib import ticker\n",
    "from matplotlib.ticker import (MultipleLocator, AutoMinorLocator)\n",
    "from matplotlib import rcParams\n",
    "from matplotlib import patches\n",
    "import scipy.io\n",
    "import astropy.constants as const\n",
    "rcParams['text.usetex'] = True\n",
    "rcParams['font.family'] = 'serif'\n",
    "import fitting_template\n",
    "import importlib\n",
    "#from IPython.display import display, Math\n",
    "from astropy.modeling import models, fitting, Fittable1DModel, Parameter\n",
    "from scipy.optimize import curve_fit\n",
    "importlib.reload(fitting_template)\n",
    "import fitting_template\n",
    "from fitting_template import FeXII_fit\n",
    "from fitting_template import myGaussian1D\n",
    "from fitting_template import myVoigt1D\n",
    "import pandas as pd\n",
    "from scipy.integrate import simps\n",
    "import h5py\n",
    "from scipy.optimize import curve_fit\n",
    "plt.style.use('science')\n",
    "rcParams['axes.linewidth'] = 1.2\n",
    "rcParams['font.family'] = 'serif'\n",
    "rcParams['font.serif'] = 'cm'\n",
    "#rcParams['figure.dpi']= 72\n",
    "import sunpy\n",
    "import sunpy.map\n",
    "xrtmap = plt.get_cmap(\"hinodexrt\")\n",
    "from num2tex import num2tex"
   ]
  },
  {
   "cell_type": "code",
   "execution_count": 21,
   "metadata": {},
   "outputs": [],
   "source": [
    "def linear(x,k,b):\n",
    "    return k*x + b"
   ]
  },
  {
   "cell_type": "code",
   "execution_count": 89,
   "metadata": {},
   "outputs": [],
   "source": [
    "line_list_338 = pd.read_csv('../save/338_line_id.csv',skiprows=0,sep=\",\",encoding='utf-8',skipfooter=0,dtype={'':np.float64})\n",
    "line_list_375 = pd.read_csv('../save/375_line_id.csv',skiprows=0,sep=\",\",encoding='utf-8',skipfooter=0,dtype={'':np.float64})\n",
    "line_list_509 = pd.read_csv('../save/509_line_id.csv',skiprows=0,sep=\",\",encoding='utf-8',skipfooter=0,dtype={'':np.float64})\n",
    "line_list_607 = pd.read_csv('../save/607_line_id.csv',skiprows=0,sep=\",\",encoding='utf-8',skipfooter=0,dtype={'':np.float64})"
   ]
  },
  {
   "cell_type": "code",
   "execution_count": 90,
   "metadata": {},
   "outputs": [],
   "source": [
    "line_list_338_real = line_list_338[line_list_338[\"real_stray\"]==\"real\"]\n",
    "line_list_338_stray = line_list_338[line_list_338[\"real_stray\"]==\"stray\"]\n",
    "line_list_375_real = line_list_375[line_list_375[\"real_stray\"]==\"real\"]\n",
    "line_list_375_stray = line_list_375[line_list_375[\"real_stray\"]==\"stray\"]\n",
    "line_list_509_real = line_list_509[line_list_509[\"real_stray\"]==\"real\"]\n",
    "line_list_509_stray = line_list_509[line_list_509[\"real_stray\"]==\"stray\"]\n",
    "line_list_607_real = line_list_607[line_list_607[\"real_stray\"]==\"real\"]"
   ]
  },
  {
   "cell_type": "code",
   "execution_count": 8,
   "metadata": {},
   "outputs": [
    {
     "data": {
      "text/html": [
       "<div>\n",
       "<style scoped>\n",
       "    .dataframe tbody tr th:only-of-type {\n",
       "        vertical-align: middle;\n",
       "    }\n",
       "\n",
       "    .dataframe tbody tr th {\n",
       "        vertical-align: top;\n",
       "    }\n",
       "\n",
       "    .dataframe thead th {\n",
       "        text-align: right;\n",
       "    }\n",
       "</style>\n",
       "<table border=\"1\" class=\"dataframe\">\n",
       "  <thead>\n",
       "    <tr style=\"text-align: right;\">\n",
       "      <th></th>\n",
       "      <th>pix_ref</th>\n",
       "      <th>pix_err</th>\n",
       "      <th>line_id</th>\n",
       "      <th>wvl_ref</th>\n",
       "      <th>real_stray</th>\n",
       "    </tr>\n",
       "  </thead>\n",
       "  <tbody>\n",
       "    <tr>\n",
       "      <th>0</th>\n",
       "      <td>104.434</td>\n",
       "      <td>0.085</td>\n",
       "      <td>Si IX</td>\n",
       "      <td>676.508</td>\n",
       "      <td>real</td>\n",
       "    </tr>\n",
       "    <tr>\n",
       "      <th>1</th>\n",
       "      <td>191.854</td>\n",
       "      <td>0.034</td>\n",
       "      <td>Fe XI</td>\n",
       "      <td>680.406</td>\n",
       "      <td>real</td>\n",
       "    </tr>\n",
       "    <tr>\n",
       "      <th>2</th>\n",
       "      <td>221.448</td>\n",
       "      <td>0.003</td>\n",
       "      <td>Na IX</td>\n",
       "      <td>681.719</td>\n",
       "      <td>real</td>\n",
       "    </tr>\n",
       "    <tr>\n",
       "      <th>3</th>\n",
       "      <td>325.563</td>\n",
       "      <td>0.045</td>\n",
       "      <td>Fe VIII</td>\n",
       "      <td>686.441</td>\n",
       "      <td>real</td>\n",
       "    </tr>\n",
       "    <tr>\n",
       "      <th>4</th>\n",
       "      <td>366.369</td>\n",
       "      <td>0.217</td>\n",
       "      <td>Al IX</td>\n",
       "      <td>688.373</td>\n",
       "      <td>real</td>\n",
       "    </tr>\n",
       "    <tr>\n",
       "      <th>5</th>\n",
       "      <td>396.789</td>\n",
       "      <td>0.038</td>\n",
       "      <td>Mg VIII</td>\n",
       "      <td>689.630</td>\n",
       "      <td>real</td>\n",
       "    </tr>\n",
       "    <tr>\n",
       "      <th>6</th>\n",
       "      <td>510.259</td>\n",
       "      <td>0.008</td>\n",
       "      <td>Si IX</td>\n",
       "      <td>694.690</td>\n",
       "      <td>real</td>\n",
       "    </tr>\n",
       "    <tr>\n",
       "      <th>7</th>\n",
       "      <td>564.056</td>\n",
       "      <td>0.029</td>\n",
       "      <td>Fe VIII</td>\n",
       "      <td>697.156</td>\n",
       "      <td>real</td>\n",
       "    </tr>\n",
       "    <tr>\n",
       "      <th>8</th>\n",
       "      <td>631.665</td>\n",
       "      <td>0.079</td>\n",
       "      <td>Ar VIII</td>\n",
       "      <td>700.240</td>\n",
       "      <td>real</td>\n",
       "    </tr>\n",
       "    <tr>\n",
       "      <th>11</th>\n",
       "      <td>762.339</td>\n",
       "      <td>0.001</td>\n",
       "      <td>Mg IX</td>\n",
       "      <td>706.040</td>\n",
       "      <td>real</td>\n",
       "    </tr>\n",
       "    <tr>\n",
       "      <th>12</th>\n",
       "      <td>898.461</td>\n",
       "      <td>0.237</td>\n",
       "      <td>Al IX</td>\n",
       "      <td>712.352</td>\n",
       "      <td>real</td>\n",
       "    </tr>\n",
       "    <tr>\n",
       "      <th>13</th>\n",
       "      <td>909.191</td>\n",
       "      <td>0.173</td>\n",
       "      <td>S VI</td>\n",
       "      <td>712.671</td>\n",
       "      <td>real</td>\n",
       "    </tr>\n",
       "    <tr>\n",
       "      <th>14</th>\n",
       "      <td>933.763</td>\n",
       "      <td>0.019</td>\n",
       "      <td>Ar VIII</td>\n",
       "      <td>713.801</td>\n",
       "      <td>real</td>\n",
       "    </tr>\n",
       "  </tbody>\n",
       "</table>\n",
       "</div>"
      ],
      "text/plain": [
       "    pix_ref  pix_err  line_id  wvl_ref real_stray\n",
       "0   104.434    0.085    Si IX  676.508       real\n",
       "1   191.854    0.034    Fe XI  680.406       real\n",
       "2   221.448    0.003    Na IX  681.719       real\n",
       "3   325.563    0.045  Fe VIII  686.441       real\n",
       "4   366.369    0.217    Al IX  688.373       real\n",
       "5   396.789    0.038  Mg VIII  689.630       real\n",
       "6   510.259    0.008    Si IX  694.690       real\n",
       "7   564.056    0.029  Fe VIII  697.156       real\n",
       "8   631.665    0.079  Ar VIII  700.240       real\n",
       "11  762.339    0.001    Mg IX  706.040       real\n",
       "12  898.461    0.237    Al IX  712.352       real\n",
       "13  909.191    0.173     S VI  712.671       real\n",
       "14  933.763    0.019  Ar VIII  713.801       real"
      ]
     },
     "execution_count": 8,
     "metadata": {},
     "output_type": "execute_result"
    }
   ],
   "source": [
    "line_list_338_real"
   ]
  },
  {
   "cell_type": "code",
   "execution_count": 30,
   "metadata": {},
   "outputs": [
    {
     "data": {
      "text/html": [
       "<div>\n",
       "<style scoped>\n",
       "    .dataframe tbody tr th:only-of-type {\n",
       "        vertical-align: middle;\n",
       "    }\n",
       "\n",
       "    .dataframe tbody tr th {\n",
       "        vertical-align: top;\n",
       "    }\n",
       "\n",
       "    .dataframe thead th {\n",
       "        text-align: right;\n",
       "    }\n",
       "</style>\n",
       "<table border=\"1\" class=\"dataframe\">\n",
       "  <thead>\n",
       "    <tr style=\"text-align: right;\">\n",
       "      <th></th>\n",
       "      <th>pix_ref</th>\n",
       "      <th>pix_err</th>\n",
       "      <th>line_id</th>\n",
       "      <th>wvl_ref</th>\n",
       "      <th>int</th>\n",
       "      <th>int_err</th>\n",
       "      <th>wid</th>\n",
       "      <th>wid_err</th>\n",
       "      <th>real_stray</th>\n",
       "    </tr>\n",
       "  </thead>\n",
       "  <tbody>\n",
       "    <tr>\n",
       "      <th>0</th>\n",
       "      <td>86.346</td>\n",
       "      <td>0.007</td>\n",
       "      <td>Mg IX</td>\n",
       "      <td>749.552</td>\n",
       "      <td>18.60</td>\n",
       "      <td>0.0471</td>\n",
       "      <td>6.6269</td>\n",
       "      <td>0.0168</td>\n",
       "      <td>real</td>\n",
       "    </tr>\n",
       "    <tr>\n",
       "      <th>1</th>\n",
       "      <td>247.158</td>\n",
       "      <td>0.146</td>\n",
       "      <td>Al VIII</td>\n",
       "      <td>756.876</td>\n",
       "      <td>1.04</td>\n",
       "      <td>0.0497</td>\n",
       "      <td>7.4974</td>\n",
       "      <td>0.3596</td>\n",
       "      <td>real</td>\n",
       "    </tr>\n",
       "    <tr>\n",
       "      <th>4</th>\n",
       "      <td>379.325</td>\n",
       "      <td>0.046</td>\n",
       "      <td>Mg VIII</td>\n",
       "      <td>762.660</td>\n",
       "      <td>2.39</td>\n",
       "      <td>0.0537</td>\n",
       "      <td>6.0637</td>\n",
       "      <td>0.1365</td>\n",
       "      <td>real</td>\n",
       "    </tr>\n",
       "    <tr>\n",
       "      <th>6</th>\n",
       "      <td>530.232</td>\n",
       "      <td>0.019</td>\n",
       "      <td>Mg VIII</td>\n",
       "      <td>769.355</td>\n",
       "      <td>6.36</td>\n",
       "      <td>0.0588</td>\n",
       "      <td>6.3304</td>\n",
       "      <td>0.0585</td>\n",
       "      <td>real</td>\n",
       "    </tr>\n",
       "    <tr>\n",
       "      <th>7</th>\n",
       "      <td>552.969</td>\n",
       "      <td>0.000</td>\n",
       "      <td>Ne VIII</td>\n",
       "      <td>770.428</td>\n",
       "      <td>1520.00</td>\n",
       "      <td>0.0406</td>\n",
       "      <td>5.1075</td>\n",
       "      <td>0.0001</td>\n",
       "      <td>real</td>\n",
       "    </tr>\n",
       "    <tr>\n",
       "      <th>8</th>\n",
       "      <td>594.738</td>\n",
       "      <td>0.025</td>\n",
       "      <td>Mg VIII</td>\n",
       "      <td>772.260</td>\n",
       "      <td>32.40</td>\n",
       "      <td>0.2390</td>\n",
       "      <td>5.8549</td>\n",
       "      <td>0.0257</td>\n",
       "      <td>real</td>\n",
       "    </tr>\n",
       "    <tr>\n",
       "      <th>9</th>\n",
       "      <td>683.198</td>\n",
       "      <td>0.084</td>\n",
       "      <td>S X</td>\n",
       "      <td>776.373</td>\n",
       "      <td>1.90</td>\n",
       "      <td>0.0497</td>\n",
       "      <td>7.7478</td>\n",
       "      <td>0.2022</td>\n",
       "      <td>real</td>\n",
       "    </tr>\n",
       "    <tr>\n",
       "      <th>10</th>\n",
       "      <td>775.157</td>\n",
       "      <td>0.000</td>\n",
       "      <td>Ne VIII</td>\n",
       "      <td>780.385</td>\n",
       "      <td>761.00</td>\n",
       "      <td>0.0383</td>\n",
       "      <td>4.6670</td>\n",
       "      <td>0.0002</td>\n",
       "      <td>real</td>\n",
       "    </tr>\n",
       "    <tr>\n",
       "      <th>11</th>\n",
       "      <td>820.768</td>\n",
       "      <td>0.004</td>\n",
       "      <td>Mg VIII</td>\n",
       "      <td>782.362</td>\n",
       "      <td>29.80</td>\n",
       "      <td>0.0462</td>\n",
       "      <td>6.4157</td>\n",
       "      <td>0.0100</td>\n",
       "      <td>real</td>\n",
       "    </tr>\n",
       "  </tbody>\n",
       "</table>\n",
       "</div>"
      ],
      "text/plain": [
       "    pix_ref  pix_err  line_id  wvl_ref      int  int_err     wid  wid_err  \\\n",
       "0    86.346    0.007    Mg IX  749.552    18.60   0.0471  6.6269   0.0168   \n",
       "1   247.158    0.146  Al VIII  756.876     1.04   0.0497  7.4974   0.3596   \n",
       "4   379.325    0.046  Mg VIII  762.660     2.39   0.0537  6.0637   0.1365   \n",
       "6   530.232    0.019  Mg VIII  769.355     6.36   0.0588  6.3304   0.0585   \n",
       "7   552.969    0.000  Ne VIII  770.428  1520.00   0.0406  5.1075   0.0001   \n",
       "8   594.738    0.025  Mg VIII  772.260    32.40   0.2390  5.8549   0.0257   \n",
       "9   683.198    0.084      S X  776.373     1.90   0.0497  7.7478   0.2022   \n",
       "10  775.157    0.000  Ne VIII  780.385   761.00   0.0383  4.6670   0.0002   \n",
       "11  820.768    0.004  Mg VIII  782.362    29.80   0.0462  6.4157   0.0100   \n",
       "\n",
       "   real_stray  \n",
       "0        real  \n",
       "1        real  \n",
       "4        real  \n",
       "6        real  \n",
       "7        real  \n",
       "8        real  \n",
       "9        real  \n",
       "10       real  \n",
       "11       real  "
      ]
     },
     "execution_count": 30,
     "metadata": {},
     "output_type": "execute_result"
    }
   ],
   "source": [
    "line_list_375_real"
   ]
  },
  {
   "cell_type": "code",
   "execution_count": 35,
   "metadata": {},
   "outputs": [
    {
     "data": {
      "text/html": [
       "<div>\n",
       "<style scoped>\n",
       "    .dataframe tbody tr th:only-of-type {\n",
       "        vertical-align: middle;\n",
       "    }\n",
       "\n",
       "    .dataframe tbody tr th {\n",
       "        vertical-align: top;\n",
       "    }\n",
       "\n",
       "    .dataframe thead th {\n",
       "        text-align: right;\n",
       "    }\n",
       "</style>\n",
       "<table border=\"1\" class=\"dataframe\">\n",
       "  <thead>\n",
       "    <tr style=\"text-align: right;\">\n",
       "      <th></th>\n",
       "      <th>pix_ref</th>\n",
       "      <th>pix_err</th>\n",
       "      <th>line_id</th>\n",
       "      <th>wvl_ref</th>\n",
       "      <th>int</th>\n",
       "      <th>int_err</th>\n",
       "      <th>wid</th>\n",
       "      <th>wid_err</th>\n",
       "      <th>real_stray</th>\n",
       "    </tr>\n",
       "  </thead>\n",
       "  <tbody>\n",
       "    <tr>\n",
       "      <th>0</th>\n",
       "      <td>295.531</td>\n",
       "      <td>0.008</td>\n",
       "      <td>Fe X</td>\n",
       "      <td>1028.050</td>\n",
       "      <td>24.8</td>\n",
       "      <td>0.0539</td>\n",
       "      <td>8.5818</td>\n",
       "      <td>0.0187</td>\n",
       "      <td>real</td>\n",
       "    </tr>\n",
       "    <tr>\n",
       "      <th>1</th>\n",
       "      <td>383.373</td>\n",
       "      <td>0.000</td>\n",
       "      <td>O VI</td>\n",
       "      <td>1031.912</td>\n",
       "      <td>4830.0</td>\n",
       "      <td>0.0465</td>\n",
       "      <td>6.6371</td>\n",
       "      <td>0.0001</td>\n",
       "      <td>real</td>\n",
       "    </tr>\n",
       "    <tr>\n",
       "      <th>3</th>\n",
       "      <td>513.505</td>\n",
       "      <td>0.000</td>\n",
       "      <td>O VI</td>\n",
       "      <td>1037.613</td>\n",
       "      <td>1260.0</td>\n",
       "      <td>0.0419</td>\n",
       "      <td>5.3466</td>\n",
       "      <td>0.0002</td>\n",
       "      <td>real</td>\n",
       "    </tr>\n",
       "    <tr>\n",
       "      <th>4</th>\n",
       "      <td>779.684</td>\n",
       "      <td>0.081</td>\n",
       "      <td>Si VII</td>\n",
       "      <td>1049.153</td>\n",
       "      <td>2.0</td>\n",
       "      <td>0.0510</td>\n",
       "      <td>7.8489</td>\n",
       "      <td>0.1999</td>\n",
       "      <td>real</td>\n",
       "    </tr>\n",
       "  </tbody>\n",
       "</table>\n",
       "</div>"
      ],
      "text/plain": [
       "   pix_ref  pix_err line_id   wvl_ref     int  int_err     wid  wid_err  \\\n",
       "0  295.531    0.008    Fe X  1028.050    24.8   0.0539  8.5818   0.0187   \n",
       "1  383.373    0.000    O VI  1031.912  4830.0   0.0465  6.6371   0.0001   \n",
       "3  513.505    0.000    O VI  1037.613  1260.0   0.0419  5.3466   0.0002   \n",
       "4  779.684    0.081  Si VII  1049.153     2.0   0.0510  7.8489   0.1999   \n",
       "\n",
       "  real_stray  \n",
       "0       real  \n",
       "1       real  \n",
       "3       real  \n",
       "4       real  "
      ]
     },
     "execution_count": 35,
     "metadata": {},
     "output_type": "execute_result"
    }
   ],
   "source": [
    "line_list_509_real"
   ]
  },
  {
   "cell_type": "code",
   "execution_count": 38,
   "metadata": {},
   "outputs": [
    {
     "data": {
      "text/html": [
       "<div>\n",
       "<style scoped>\n",
       "    .dataframe tbody tr th:only-of-type {\n",
       "        vertical-align: middle;\n",
       "    }\n",
       "\n",
       "    .dataframe tbody tr th {\n",
       "        vertical-align: top;\n",
       "    }\n",
       "\n",
       "    .dataframe thead th {\n",
       "        text-align: right;\n",
       "    }\n",
       "</style>\n",
       "<table border=\"1\" class=\"dataframe\">\n",
       "  <thead>\n",
       "    <tr style=\"text-align: right;\">\n",
       "      <th></th>\n",
       "      <th>pix_ref</th>\n",
       "      <th>pix_err</th>\n",
       "      <th>line_id</th>\n",
       "      <th>wvl_ref</th>\n",
       "      <th>int</th>\n",
       "      <th>int_err</th>\n",
       "      <th>wid</th>\n",
       "      <th>wid_err</th>\n",
       "      <th>real_stray</th>\n",
       "    </tr>\n",
       "  </thead>\n",
       "  <tbody>\n",
       "    <tr>\n",
       "      <th>0</th>\n",
       "      <td>237.470</td>\n",
       "      <td>0.001</td>\n",
       "      <td>Mg X</td>\n",
       "      <td>609.793</td>\n",
       "      <td>162.00</td>\n",
       "      <td>0.0508</td>\n",
       "      <td>7.8573</td>\n",
       "      <td>0.0025</td>\n",
       "      <td>real</td>\n",
       "    </tr>\n",
       "    <tr>\n",
       "      <th>1</th>\n",
       "      <td>683.155</td>\n",
       "      <td>0.002</td>\n",
       "      <td>N V</td>\n",
       "      <td>1238.821</td>\n",
       "      <td>89.80</td>\n",
       "      <td>0.0495</td>\n",
       "      <td>7.6802</td>\n",
       "      <td>0.0042</td>\n",
       "      <td>real</td>\n",
       "    </tr>\n",
       "    <tr>\n",
       "      <th>2</th>\n",
       "      <td>756.994</td>\n",
       "      <td>0.085</td>\n",
       "      <td>Fe XII</td>\n",
       "      <td>1242.005</td>\n",
       "      <td>2.15</td>\n",
       "      <td>0.0565</td>\n",
       "      <td>8.4729</td>\n",
       "      <td>0.2220</td>\n",
       "      <td>real</td>\n",
       "    </tr>\n",
       "    <tr>\n",
       "      <th>3</th>\n",
       "      <td>776.369</td>\n",
       "      <td>0.045</td>\n",
       "      <td>N V</td>\n",
       "      <td>1242.804</td>\n",
       "      <td>4.49</td>\n",
       "      <td>0.0583</td>\n",
       "      <td>9.0787</td>\n",
       "      <td>0.1179</td>\n",
       "      <td>real</td>\n",
       "    </tr>\n",
       "    <tr>\n",
       "      <th>4</th>\n",
       "      <td>939.269</td>\n",
       "      <td>0.002</td>\n",
       "      <td>Mg X</td>\n",
       "      <td>624.941</td>\n",
       "      <td>92.40</td>\n",
       "      <td>0.0545</td>\n",
       "      <td>8.7680</td>\n",
       "      <td>0.0052</td>\n",
       "      <td>real</td>\n",
       "    </tr>\n",
       "  </tbody>\n",
       "</table>\n",
       "</div>"
      ],
      "text/plain": [
       "   pix_ref  pix_err line_id   wvl_ref     int  int_err     wid  wid_err  \\\n",
       "0  237.470    0.001    Mg X   609.793  162.00   0.0508  7.8573   0.0025   \n",
       "1  683.155    0.002     N V  1238.821   89.80   0.0495  7.6802   0.0042   \n",
       "2  756.994    0.085  Fe XII  1242.005    2.15   0.0565  8.4729   0.2220   \n",
       "3  776.369    0.045     N V  1242.804    4.49   0.0583  9.0787   0.1179   \n",
       "4  939.269    0.002    Mg X   624.941   92.40   0.0545  8.7680   0.0052   \n",
       "\n",
       "  real_stray  \n",
       "0       real  \n",
       "1       real  \n",
       "2       real  \n",
       "3       real  \n",
       "4       real  "
      ]
     },
     "execution_count": 38,
     "metadata": {},
     "output_type": "execute_result"
    }
   ],
   "source": [
    "line_list_607_real"
   ]
  },
  {
   "cell_type": "code",
   "execution_count": 12,
   "metadata": {},
   "outputs": [],
   "source": [
    "pix_338 = line_list_338_real[\"pix_ref\"].values\n",
    "pix_338_err = line_list_338_real[\"pix_err\"].values\n",
    "line_id_338 = line_list_338_real[\"line_id\"].values\n",
    "wvl_ref_338 = line_list_338_real[\"wvl_ref\"].values\n",
    "pix_338_stray = line_list_338_stray[\"pix_ref\"].values\n",
    "wvl_ref_338_stray = line_list_338_stray[\"wvl_ref\"].values"
   ]
  },
  {
   "cell_type": "code",
   "execution_count": 43,
   "metadata": {},
   "outputs": [
    {
     "name": "stdout",
     "output_type": "stream",
     "text": [
      "0.04496629878144223 671.7967194748996\n"
     ]
    }
   ],
   "source": [
    "popt_338, pcov_338 = curve_fit(linear, xdata=wvl_ref_338,ydata=pix_338,p0=[22.7,676.51-100*0.044],sigma=pix_338_err)\n",
    "perr_338 = np.sqrt(np.diag(pcov_338))\n",
    "b_res_338 = wvl_ref_338_stray - pix_338_stray/popt_338[0]\n",
    "wvl_338 = np.linspace(0,1023,1024)/popt_338[0] + np.mean(b_res_338)\n",
    "print(1/popt_338[0],np.mean(b_res_338))"
   ]
  },
  {
   "cell_type": "code",
   "execution_count": 25,
   "metadata": {},
   "outputs": [
    {
     "data": {
      "text/plain": [
       "Text(0.05, 0.9, '$\\\\Delta \\\\lambda = 0.044966_{-7 \\\\times 10^{-6}}^{+7 \\\\times 10^{-6}}$')"
      ]
     },
     "execution_count": 25,
     "metadata": {},
     "output_type": "execute_result"
    },
    {
     "data": {
      "image/png": "[encoded data removed]",
      "text/plain": [
       "<Figure size 576x432 with 1 Axes>"
      ]
     },
     "metadata": {
      "needs_background": "light"
     },
     "output_type": "display_data"
    }
   ],
   "source": [
    "fig, ax = plt.subplots(figsize=(8,6))\n",
    "\n",
    "wvl_toplot_338 = np.linspace(675,716,201)\n",
    "ax.errorbar(wvl_ref_338,pix_338,pix_338_err,marker=\"s\",capsize=3,ls=\"none\",color=\"#E87A90\")\n",
    "ax.plot(wvl_toplot_338,linear(wvl_toplot_338,*popt_338),ls=\"--\",color=\"#FC9F40\",lw=2)\n",
    "ax.tick_params(labelsize=16)\n",
    "ax.set_xlabel(r\"$\\lambda$ [\\mbox{\\AA}]\",fontsize=16)\n",
    "ax.set_ylabel(r\"Pixel \\#\",fontsize=16)\n",
    "ax.text(0.05,0.9,r'$\\Delta \\lambda = {:.5g}_{{-{:.1g}}}^{{+{:.1g}}}$'.format(num2tex(1/popt_338[0]),\n",
    "                                    num2tex(1/popt_338[0]-1/(popt_338[0]+perr_338[0])),num2tex(-1/popt_338[0]+1/(popt_338[0]-perr_338[0]))),\n",
    "        ha = 'left',va = 'center', color = 'black',fontsize = 20,linespacing=1.5,transform=ax.transAxes)"
   ]
  },
  {
   "cell_type": "code",
   "execution_count": 44,
   "metadata": {},
   "outputs": [
    {
     "name": "stdout",
     "output_type": "stream",
     "text": [
      "0.044790246422816475 745.655738274089\n"
     ]
    }
   ],
   "source": [
    "pix_375 = line_list_375_real[\"pix_ref\"].values\n",
    "pix_375_err = line_list_375_real[\"pix_err\"].values\n",
    "line_id_375 = line_list_375_real[\"line_id\"].values\n",
    "wvl_ref_375 = line_list_375_real[\"wvl_ref\"].values\n",
    "pix_375_stray = line_list_375_stray[\"pix_ref\"].values\n",
    "wvl_ref_375_stray = line_list_375_stray[\"wvl_ref\"].values\n",
    "\n",
    "popt_375, pcov_375 = curve_fit(linear, xdata=wvl_ref_375,ydata=pix_375,p0=[22.7,375.2*2-100*0.044],sigma=pix_375_err+1e-3)\n",
    "perr_375 = np.sqrt(np.diag(pcov_375))\n",
    "b_res_375 = wvl_ref_375_stray - pix_375_stray/popt_375[0]\n",
    "wvl_375 = np.linspace(0,1023,1024)/popt_375[0] + np.mean(b_res_375)\n",
    "print(1/popt_375[0],np.mean(b_res_375))"
   ]
  },
  {
   "cell_type": "code",
   "execution_count": 34,
   "metadata": {},
   "outputs": [
    {
     "data": {
      "text/plain": [
       "Text(0.05, 0.9, '$\\\\Delta \\\\lambda = 0.04479_{-3 \\\\times 10^{-5}}^{+3 \\\\times 10^{-5}}$')"
      ]
     },
     "execution_count": 34,
     "metadata": {},
     "output_type": "execute_result"
    },
    {
     "data": {
      "image/png": "[encoded data removed]",
      "text/plain": [
       "<Figure size 576x432 with 1 Axes>"
      ]
     },
     "metadata": {
      "needs_background": "light"
     },
     "output_type": "display_data"
    }
   ],
   "source": [
    "fig, ax = plt.subplots(figsize=(8,6))\n",
    "\n",
    "wvl_toplot_375 = np.linspace(745,795,201)\n",
    "ax.errorbar(wvl_ref_375,pix_375,pix_375_err,marker=\"s\",capsize=3,ls=\"none\",color=\"#E87A90\")\n",
    "ax.plot(wvl_toplot_375,linear(wvl_toplot_375,*popt_375),ls=\"--\",color=\"#FC9F40\",lw=2)\n",
    "ax.tick_params(labelsize=16)\n",
    "ax.set_xlabel(r\"$\\lambda$ [\\mbox{\\AA}]\",fontsize=16)\n",
    "ax.set_ylabel(r\"Pixel \\#\",fontsize=16)\n",
    "ax.text(0.05,0.9,r'$\\Delta \\lambda = {:.5g}_{{-{:.1g}}}^{{+{:.1g}}}$'.format(num2tex(1/popt_375[0]),\n",
    "                                    num2tex(1/popt_375[0]-1/(popt_375[0]+perr_375[0])),num2tex(-1/popt_375[0]+1/(popt_375[0]-perr_375[0]))),\n",
    "        ha = 'left',va = 'center', color = 'black',fontsize = 20,linespacing=1.5,transform=ax.transAxes)\n"
   ]
  },
  {
   "cell_type": "code",
   "execution_count": 45,
   "metadata": {},
   "outputs": [
    {
     "name": "stdout",
     "output_type": "stream",
     "text": [
      "0.04381162280734919 1015.1032588901901\n"
     ]
    },
    {
     "data": {
      "text/plain": [
       "Text(0.05, 0.9, '$\\\\Delta \\\\lambda = 0.043812_{-2 \\\\times 10^{-5}}^{+2 \\\\times 10^{-5}}$')"
      ]
     },
     "execution_count": 45,
     "metadata": {},
     "output_type": "execute_result"
    },
    {
     "data": {
      "image/png": "[encoded data removed]",
      "text/plain": [
       "<Figure size 576x432 with 1 Axes>"
      ]
     },
     "metadata": {
      "needs_background": "light"
     },
     "output_type": "display_data"
    }
   ],
   "source": [
    "pix_509 = line_list_509_real[\"pix_ref\"].values\n",
    "pix_509_err = line_list_509_real[\"pix_err\"].values\n",
    "line_id_509 = line_list_509_real[\"line_id\"].values\n",
    "wvl_ref_509 = line_list_509_real[\"wvl_ref\"].values\n",
    "pix_509_stray = line_list_509_stray[\"pix_ref\"].values\n",
    "wvl_ref_509_stray = line_list_509_stray[\"wvl_ref\"].values\n",
    "\n",
    "popt_509, pcov_509 = curve_fit(linear, xdata=wvl_ref_509,ydata=pix_509,p0=[22.7,509.9*2-100*0.044],sigma=pix_509_err+1e-3)\n",
    "perr_509 = np.sqrt(np.diag(pcov_509))\n",
    "b_res_509 = wvl_ref_509_stray - pix_509_stray/popt_509[0]\n",
    "wvl_509 = np.linspace(0,1023,1024)/popt_509[0] + np.mean(b_res_509)\n",
    "print(1/popt_509[0],np.mean(b_res_509))\n",
    "\n",
    "fig, ax = plt.subplots(figsize=(8,6))\n",
    "\n",
    "wvl_toplot_509 = np.linspace(509*2-5,509*2+40,201)\n",
    "ax.errorbar(wvl_ref_509,pix_509,pix_509_err,marker=\"s\",capsize=3,ls=\"none\",color=\"#E87A90\")\n",
    "ax.plot(wvl_toplot_509,linear(wvl_toplot_509,*popt_509),ls=\"--\",color=\"#FC9F40\",lw=2)\n",
    "ax.tick_params(labelsize=16)\n",
    "ax.set_xlabel(r\"$\\lambda$ [\\mbox{\\AA}]\",fontsize=16)\n",
    "ax.set_ylabel(r\"Pixel \\#\",fontsize=16)\n",
    "ax.text(0.05,0.9,r'$\\Delta \\lambda = {:.5g}_{{-{:.1g}}}^{{+{:.1g}}}$'.format(num2tex(1/popt_509[0]),\n",
    "                                    num2tex(1/popt_509[0]-1/(popt_509[0]+perr_509[0])),num2tex(-1/popt_509[0]+1/(popt_509[0]-perr_509[0]))),\n",
    "        ha = 'left',va = 'center', color = 'black',fontsize = 20,linespacing=1.5,transform=ax.transAxes)\n"
   ]
  },
  {
   "cell_type": "code",
   "execution_count": 95,
   "metadata": {},
   "outputs": [
    {
     "name": "stdout",
     "output_type": "stream",
     "text": [
      "0.04316670824233466 1209.3346601414057\n"
     ]
    }
   ],
   "source": [
    "pix_607 = line_list_607_real[\"pix_ref\"].values\n",
    "pix_607_err = line_list_607_real[\"pix_err\"].values\n",
    "line_id_607 = line_list_607_real[\"line_id\"].values\n",
    "wvl_ref_607 = np.copy(line_list_607_real[\"wvl_ref\"].values)\n",
    "wvl_ref_607[0] = wvl_ref_607[0]*2\n",
    "wvl_ref_607[-1] = wvl_ref_607[-1]*2\n",
    "\n",
    "popt_607, pcov_607 = curve_fit(linear, xdata=wvl_ref_607,ydata=pix_607,p0=[22.7,607.2*2-100*0.044],sigma=pix_607_err+1e-3)\n",
    "print(1/popt_607[0],-popt_607[1]/popt_607[0])\n",
    "perr_607 = np.sqrt(np.diag(pcov_607))\n",
    "wvl_607 = np.linspace(0,1023,1024)/popt_607[0] - popt_607[1]/popt_607[0]"
   ]
  },
  {
   "cell_type": "code",
   "execution_count": 96,
   "metadata": {},
   "outputs": [
    {
     "data": {
      "text/plain": [
       "Text(0.05, 0.9, '$\\\\Delta \\\\lambda = 0.043167_{-5 \\\\times 10^{-6}}^{+5 \\\\times 10^{-6}}$')"
      ]
     },
     "execution_count": 96,
     "metadata": {},
     "output_type": "execute_result"
    },
    {
     "data": {
      "image/png": "[encoded data removed]",
      "text/plain": [
       "<Figure size 576x432 with 1 Axes>"
      ]
     },
     "metadata": {
      "needs_background": "light"
     },
     "output_type": "display_data"
    }
   ],
   "source": [
    "fig, ax = plt.subplots(figsize=(8,6))\n",
    "\n",
    "wvl_toplot_607 = np.linspace(607*2-5,607*2+40,201)\n",
    "ax.errorbar(wvl_ref_607,pix_607,pix_607_err,marker=\"s\",capsize=3,ls=\"none\",color=\"#E87A90\")\n",
    "#ax.plot(wvl_toplot_607,linear(wvl_toplot_607,*popt_607),ls=\"--\",color=\"#FC9F40\",lw=2)\n",
    "ax.plot(wvl_607,np.linspace(0,1023,1024),ls=\"--\",color=\"#FC9F40\",lw=2)\n",
    "ax.tick_params(labelsize=16)\n",
    "ax.set_xlabel(r\"$\\lambda$ [\\mbox{\\AA}]\",fontsize=16)\n",
    "ax.set_ylabel(r\"Pixel \\#\",fontsize=16)\n",
    "ax.text(0.05,0.9,r'$\\Delta \\lambda = {:.5g}_{{-{:.1g}}}^{{+{:.1g}}}$'.format(num2tex(1/popt_607[0]),\n",
    "                                    num2tex(1/popt_607[0]-1/(popt_607[0]+perr_607[0])),num2tex(-1/popt_607[0]+1/(popt_607[0]-perr_607[0]))),\n",
    "        ha = 'left',va = 'center', color = 'black',fontsize = 20,linespacing=1.5,transform=ax.transAxes)"
   ]
  },
  {
   "cell_type": "code",
   "execution_count": 98,
   "metadata": {},
   "outputs": [],
   "source": [
    "wvl_all = np.zeros(4096)\n",
    "wvl_all[:1024] = wvl_338\n",
    "wvl_all[1024:2048] = wvl_375\n",
    "wvl_all[2048:3072] = wvl_509\n",
    "wvl_all[3072:4096] = wvl_607"
   ]
  },
  {
   "cell_type": "code",
   "execution_count": 99,
   "metadata": {},
   "outputs": [
    {
     "name": "stdout",
     "output_type": "stream",
     "text": [
      "Stored 'wvl_all' (ndarray)\n"
     ]
    }
   ],
   "source": [
    "%store wvl_all"
   ]
  }
 ],
 "metadata": {
  "kernelspec": {
   "display_name": "Python 3",
   "language": "python",
   "name": "python3"
  },
  "language_info": {
   "codemirror_mode": {
    "name": "ipython",
    "version": 3
   },
   "file_extension": ".py",
   "mimetype": "text/x-python",
   "name": "python",
   "nbconvert_exporter": "python",
   "pygments_lexer": "ipython3",
   "version": "3.7.3"
  }
 },
 "nbformat": 4,
 "nbformat_minor": 4
}
