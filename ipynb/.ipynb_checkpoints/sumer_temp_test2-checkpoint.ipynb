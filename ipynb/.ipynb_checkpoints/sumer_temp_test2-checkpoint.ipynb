{
 "cells": [
  {
   "cell_type": "code",
   "execution_count": 117,
   "metadata": {},
   "outputs": [],
   "source": [
    "import numpy as np\n",
    "import matplotlib.pyplot as plt\n",
    "import astropy.constants as const\n",
    "plt.style.use('science')\n",
    "import pandas as pd\n",
    "from IPython.display import display, Math\n",
    "from matplotlib import ticker\n",
    "from matplotlib.ticker import (MultipleLocator, AutoMinorLocator)"
   ]
  },
  {
   "cell_type": "code",
   "execution_count": 3,
   "metadata": {},
   "outputs": [],
   "source": [
    "c = const.c.cgs.value\n",
    "amu = const.u.cgs.value\n",
    "k_B = const.k_B.cgs.value\n",
    "hplanck = const.h.cgs.value"
   ]
  },
  {
   "cell_type": "code",
   "execution_count": 90,
   "metadata": {},
   "outputs": [],
   "source": [
    "Fe_mass = 55.85\n",
    "Mg_mass = 24.31\n",
    "Na_mass = 22.98977\n",
    "Ne_mass = 20.179\n",
    "O_mass = 15.9994\n",
    "N_mass = 14.0067\n",
    "Ar_mass = 39.948\n",
    "Mn_mass = 54.938\n",
    "Si_mass = 28.0855\n",
    "S_mass = 32.065"
   ]
  },
  {
   "cell_type": "code",
   "execution_count": 42,
   "metadata": {},
   "outputs": [],
   "source": [
    "line_id_latex = [r\"Fe \\textsc{xi}\",r\"Na \\textsc{ix}\",r\"Fe \\textsc{viii}\",r\"Mg \\textsc{ix}\",r\"Mg \\textsc{viii} 782\",\n",
    "           r\"Mg \\textsc{viii} 762\",r\"Ne \\textsc{viii}\",r\"O \\textsc{vi}\",r\"Mg \\textsc{x}\",r\"N \\textsc{v}\",r\"Ar \\textsc{viii}\"]\n",
    "\n",
    "line_id = [\"Fe XI\",\"Na IX\",\"Fe VIII\",\"Mg IX\",\"Mg VIII 782\",\"Mg VIII 772\",\"Ne VIII\",\"O VI\",\"Mg X\",\"N V\",\"Ar VIII\"]\n",
    "line_width = np.array([274.237,209.422,150.835,211.51,217.111,209.769,215.596,247.344,162.57,284.599,183.145])/1.0e3\n",
    "line_wvl = np.array([680.454081,681.7617909,697.1475496,749.5195689,782.4247234,772.3089358,\n",
    "                    770.4297163,1031.914874,624.9546469,1238.819119,713.775952])\n",
    "line_mass = np.array([Fe_mass,Na_mass,Fe_mass,Mg_mass,Mg_mass,Mg_mass,Ne_mass,O_mass,Mg_mass,N_mass,Ar_mass])\n",
    "line_z2a = np.array([10.0,8.0,7.0,8.0,7.0,7.0,7.0,5.0,9.0,4.0,7])/line_mass "
   ]
  },
  {
   "cell_type": "code",
   "execution_count": 120,
   "metadata": {},
   "outputs": [],
   "source": [
    "eis_id_latex = [r\"Fe \\textsc{viii} 185\",r\"Fe \\textsc{viii} 186\",r\"Fe \\textsc{ix}\",r\"Fe \\textsc{x}\",r\"Fe \\textsc{xi} 188\",r\"Fe \\textsc{xii}\",\n",
    "               r\"O \\textsc{vi}\",r\"Mn \\textsc{viii}\",r\"Fe \\textsc{xi} 192\",r\"Fe \\textsc{xi} 256\",r\"Si \\textsc{x} 258\",r\"Si \\textsc{x} 261\",\n",
    "               r\"Si \\textsc{x} 272\",r\"Si \\textsc{x} 277\",r\"S \\textsc{x} 259\",r\"S \\textsc{x} 264\",r\"Mg \\textsc{vii}\",r\"Si \\textsc{vii} 272\",\n",
    "               r\"Si \\textsc{vii} 274\",r\"Si \\textsc{vii} 275.3\",r\"Si \\textsc{vii} 275.6\"]\n",
    "eis_id = [\"Fe VIII*\",\"Fe VIII*\",\"Fe IX*\",\"Fe X*\",\"Fe XI 188\",\"Fe XII*\",\"O VI*\",\"Mn VIII*\",\"Fe XI 192\",\"Fe XI 256\",\"Si X 258\",\"Si X 261\",\n",
    "         \"Si X 272\",\"Si X 277\",\"S X 259\",\"S X 264\",\"Mg VII\",\"Si VII 272\",\"Si VII 274\",\"Si VII 275.3\",\"Si VII 275.6\"]\n",
    "eis_width = np.array([0.034910656,0.038373349,0.041806027,0.039610528,0.043540715,0.048296935,0.044669832,0.039813866,0.051915931,\n",
    "                     0.046869541,0.04704959,0.044483074,0.06269086,0.07153037,0.048120099,0.037743131,0.056662103,0.064922984,\n",
    "                      0.047765091,0.061937016,0.055539751])\n",
    "eis_wvl = np.array([185.2130,186.5980,188.4930,184.5370,188.2160,195.1190,184.1170,185.4550,192.6270,256.9190,258.3740,\n",
    "                   261.0560,271.9920,277.2640,259.4960,264.2300,276.1540,272.6470,274.1800,275.3610,275.6750])\n",
    "eis_mass = np.array([Fe_mass,Fe_mass,Fe_mass,Fe_mass,Fe_mass,Fe_mass,O_mass,Mn_mass,Fe_mass,Fe_mass,Si_mass,Si_mass,Si_mass,Si_mass,\n",
    "                    S_mass,S_mass,Mg_mass,Si_mass,Si_mass,Si_mass,Si_mass])\n",
    "eis_z2a = np.array([7.0,7.0,8.0,9.0,10.0,11.0,5.0,7.0,10.0,10.0,9.0,9.0,9.0,9.0,9.0,9.0,6.0,6.0,6.0,6.0,6.0])/eis_mass"
   ]
  },
  {
   "cell_type": "code",
   "execution_count": 116,
   "metadata": {},
   "outputs": [
    {
     "data": {
      "text/plain": [
       "(21,)"
      ]
     },
     "execution_count": 116,
     "metadata": {},
     "output_type": "execute_result"
    }
   ],
   "source": [
    "eis_wvl.shape"
   ]
  },
  {
   "cell_type": "code",
   "execution_count": 18,
   "metadata": {},
   "outputs": [],
   "source": [
    "turb_max = np.min(line_width)\n",
    "line_width_min = np.sqrt(line_width**2 - turb_max**2)\n",
    "temp_max = np.square(line_width/line_wvl*c)*line_mass*amu/2/k_B/(4*np.log(2))\n",
    "temp_min = np.square(line_width_min/line_wvl*c)*line_mass*amu/2/k_B/(4*np.log(2))\n",
    "temp_aver = (temp_max+temp_min)/2"
   ]
  },
  {
   "cell_type": "code",
   "execution_count": 121,
   "metadata": {},
   "outputs": [],
   "source": [
    "line_width_all = np.concatenate((line_width,eis_width))\n",
    "line_wvl_all = np.concatenate((line_wvl,eis_wvl))\n",
    "line_width_all = line_width_all/line_wvl_all*c\n",
    "line_mass_all = np.concatenate((line_mass,eis_mass))\n",
    "line_z2a_all = np.concatenate((line_z2a,eis_z2a))\n",
    "line_id_all = line_id + eis_id\n",
    "line_id_latex_all = line_id_latex + eis_id_latex\n",
    "\n",
    "turb_max_all = np.min(line_width_all)\n",
    "line_width_min_all = np.sqrt(line_width_all**2 - turb_max_all**2)\n",
    "temp_max_all = np.square(line_width_all)*line_mass_all*amu/2/k_B/(4*np.log(2))\n",
    "temp_min_all = np.square(line_width_min_all)*line_mass_all*amu/2/k_B/(4*np.log(2))\n",
    "temp_aver_all = (temp_max_all+temp_min_all)/2"
   ]
  },
  {
   "cell_type": "code",
   "execution_count": 122,
   "metadata": {},
   "outputs": [
    {
     "data": {
      "text/html": [
       "<div>\n",
       "<style scoped>\n",
       "    .dataframe tbody tr th:only-of-type {\n",
       "        vertical-align: middle;\n",
       "    }\n",
       "\n",
       "    .dataframe tbody tr th {\n",
       "        vertical-align: top;\n",
       "    }\n",
       "\n",
       "    .dataframe thead th {\n",
       "        text-align: right;\n",
       "    }\n",
       "</style>\n",
       "<table border=\"1\" class=\"dataframe\">\n",
       "  <thead>\n",
       "    <tr style=\"text-align: right;\">\n",
       "      <th></th>\n",
       "      <th>line id</th>\n",
       "      <th>line width</th>\n",
       "      <th>line wvl</th>\n",
       "      <th>line mass</th>\n",
       "      <th>line charge</th>\n",
       "    </tr>\n",
       "  </thead>\n",
       "  <tbody>\n",
       "    <tr>\n",
       "      <th>0</th>\n",
       "      <td>Fe VIII*</td>\n",
       "      <td>0.034911</td>\n",
       "      <td>185.213</td>\n",
       "      <td>55.8500</td>\n",
       "      <td>7.0</td>\n",
       "    </tr>\n",
       "    <tr>\n",
       "      <th>1</th>\n",
       "      <td>Fe VIII*</td>\n",
       "      <td>0.038373</td>\n",
       "      <td>186.598</td>\n",
       "      <td>55.8500</td>\n",
       "      <td>7.0</td>\n",
       "    </tr>\n",
       "    <tr>\n",
       "      <th>2</th>\n",
       "      <td>Fe IX*</td>\n",
       "      <td>0.041806</td>\n",
       "      <td>188.493</td>\n",
       "      <td>55.8500</td>\n",
       "      <td>8.0</td>\n",
       "    </tr>\n",
       "    <tr>\n",
       "      <th>3</th>\n",
       "      <td>Fe X*</td>\n",
       "      <td>0.039611</td>\n",
       "      <td>184.537</td>\n",
       "      <td>55.8500</td>\n",
       "      <td>9.0</td>\n",
       "    </tr>\n",
       "    <tr>\n",
       "      <th>4</th>\n",
       "      <td>Fe XI 188</td>\n",
       "      <td>0.043541</td>\n",
       "      <td>188.216</td>\n",
       "      <td>55.8500</td>\n",
       "      <td>10.0</td>\n",
       "    </tr>\n",
       "    <tr>\n",
       "      <th>5</th>\n",
       "      <td>Fe XII*</td>\n",
       "      <td>0.048297</td>\n",
       "      <td>195.119</td>\n",
       "      <td>55.8500</td>\n",
       "      <td>11.0</td>\n",
       "    </tr>\n",
       "    <tr>\n",
       "      <th>6</th>\n",
       "      <td>O VI*</td>\n",
       "      <td>0.044670</td>\n",
       "      <td>184.117</td>\n",
       "      <td>15.9994</td>\n",
       "      <td>5.0</td>\n",
       "    </tr>\n",
       "    <tr>\n",
       "      <th>7</th>\n",
       "      <td>Mn VIII*</td>\n",
       "      <td>0.039814</td>\n",
       "      <td>185.455</td>\n",
       "      <td>54.9380</td>\n",
       "      <td>7.0</td>\n",
       "    </tr>\n",
       "    <tr>\n",
       "      <th>8</th>\n",
       "      <td>Fe XI 192</td>\n",
       "      <td>0.051916</td>\n",
       "      <td>192.627</td>\n",
       "      <td>55.8500</td>\n",
       "      <td>10.0</td>\n",
       "    </tr>\n",
       "    <tr>\n",
       "      <th>9</th>\n",
       "      <td>Fe XI 256</td>\n",
       "      <td>0.046870</td>\n",
       "      <td>256.919</td>\n",
       "      <td>55.8500</td>\n",
       "      <td>10.0</td>\n",
       "    </tr>\n",
       "    <tr>\n",
       "      <th>10</th>\n",
       "      <td>Si X 258</td>\n",
       "      <td>0.047050</td>\n",
       "      <td>258.374</td>\n",
       "      <td>28.0855</td>\n",
       "      <td>9.0</td>\n",
       "    </tr>\n",
       "    <tr>\n",
       "      <th>11</th>\n",
       "      <td>Si X 261</td>\n",
       "      <td>0.044483</td>\n",
       "      <td>261.056</td>\n",
       "      <td>28.0855</td>\n",
       "      <td>9.0</td>\n",
       "    </tr>\n",
       "    <tr>\n",
       "      <th>12</th>\n",
       "      <td>Si X 272</td>\n",
       "      <td>0.062691</td>\n",
       "      <td>271.992</td>\n",
       "      <td>28.0855</td>\n",
       "      <td>9.0</td>\n",
       "    </tr>\n",
       "    <tr>\n",
       "      <th>13</th>\n",
       "      <td>Si X 277</td>\n",
       "      <td>0.071530</td>\n",
       "      <td>277.264</td>\n",
       "      <td>28.0855</td>\n",
       "      <td>9.0</td>\n",
       "    </tr>\n",
       "    <tr>\n",
       "      <th>14</th>\n",
       "      <td>S X 259</td>\n",
       "      <td>0.048120</td>\n",
       "      <td>259.496</td>\n",
       "      <td>32.0650</td>\n",
       "      <td>9.0</td>\n",
       "    </tr>\n",
       "    <tr>\n",
       "      <th>15</th>\n",
       "      <td>S X 264</td>\n",
       "      <td>0.037743</td>\n",
       "      <td>264.230</td>\n",
       "      <td>32.0650</td>\n",
       "      <td>9.0</td>\n",
       "    </tr>\n",
       "    <tr>\n",
       "      <th>16</th>\n",
       "      <td>Mg VII</td>\n",
       "      <td>0.056662</td>\n",
       "      <td>276.154</td>\n",
       "      <td>24.3100</td>\n",
       "      <td>6.0</td>\n",
       "    </tr>\n",
       "    <tr>\n",
       "      <th>17</th>\n",
       "      <td>Si VII 272</td>\n",
       "      <td>0.064923</td>\n",
       "      <td>272.647</td>\n",
       "      <td>28.0855</td>\n",
       "      <td>6.0</td>\n",
       "    </tr>\n",
       "    <tr>\n",
       "      <th>18</th>\n",
       "      <td>Si VII 274</td>\n",
       "      <td>0.047765</td>\n",
       "      <td>274.180</td>\n",
       "      <td>28.0855</td>\n",
       "      <td>6.0</td>\n",
       "    </tr>\n",
       "    <tr>\n",
       "      <th>19</th>\n",
       "      <td>Si VII 275.3</td>\n",
       "      <td>0.061937</td>\n",
       "      <td>275.361</td>\n",
       "      <td>28.0855</td>\n",
       "      <td>6.0</td>\n",
       "    </tr>\n",
       "    <tr>\n",
       "      <th>20</th>\n",
       "      <td>Si VII 275.6</td>\n",
       "      <td>0.055540</td>\n",
       "      <td>275.675</td>\n",
       "      <td>28.0855</td>\n",
       "      <td>6.0</td>\n",
       "    </tr>\n",
       "  </tbody>\n",
       "</table>\n",
       "</div>"
      ],
      "text/plain": [
       "         line id  line width  line wvl  line mass  line charge\n",
       "0       Fe VIII*    0.034911   185.213    55.8500          7.0\n",
       "1       Fe VIII*    0.038373   186.598    55.8500          7.0\n",
       "2         Fe IX*    0.041806   188.493    55.8500          8.0\n",
       "3          Fe X*    0.039611   184.537    55.8500          9.0\n",
       "4      Fe XI 188    0.043541   188.216    55.8500         10.0\n",
       "5        Fe XII*    0.048297   195.119    55.8500         11.0\n",
       "6          O VI*    0.044670   184.117    15.9994          5.0\n",
       "7       Mn VIII*    0.039814   185.455    54.9380          7.0\n",
       "8      Fe XI 192    0.051916   192.627    55.8500         10.0\n",
       "9      Fe XI 256    0.046870   256.919    55.8500         10.0\n",
       "10      Si X 258    0.047050   258.374    28.0855          9.0\n",
       "11      Si X 261    0.044483   261.056    28.0855          9.0\n",
       "12      Si X 272    0.062691   271.992    28.0855          9.0\n",
       "13      Si X 277    0.071530   277.264    28.0855          9.0\n",
       "14       S X 259    0.048120   259.496    32.0650          9.0\n",
       "15       S X 264    0.037743   264.230    32.0650          9.0\n",
       "16        Mg VII    0.056662   276.154    24.3100          6.0\n",
       "17    Si VII 272    0.064923   272.647    28.0855          6.0\n",
       "18    Si VII 274    0.047765   274.180    28.0855          6.0\n",
       "19  Si VII 275.3    0.061937   275.361    28.0855          6.0\n",
       "20  Si VII 275.6    0.055540   275.675    28.0855          6.0"
      ]
     },
     "execution_count": 122,
     "metadata": {},
     "output_type": "execute_result"
    }
   ],
   "source": [
    "line_eis_df = pd.DataFrame({\"line id\":eis_id,\"line width\":eis_width,\"line wvl\":eis_wvl,\"line mass\":eis_mass,\"line charge\":eis_z2a*eis_mass})\n",
    "line_eis_df"
   ]
  },
  {
   "cell_type": "code",
   "execution_count": 64,
   "metadata": {},
   "outputs": [
    {
     "name": "stdout",
     "output_type": "stream",
     "text": [
      "Fe XI 7.091102035957375 7.247569402542834\n",
      "Na IX 6.308574985336076 6.626205689289733\n",
      "Fe VIII 0.0 6.707269794899864\n",
      "Mg IX 6.268243071193777 6.576772589637273\n",
      "Mg VIII 782 6.275932206740368 6.5621552567687855\n",
      "Mg VIII 772 6.227491327731757 6.543577227656377\n",
      "Ne VIII 6.196631391840383 6.488606759708563\n",
      "O VI 6.051354277117245 6.2533104837652\n",
      "Mg X 5.6495697161687985 6.506060539635012\n",
      "N V 6.015473804198062 6.158678540403893\n",
      "Ar VIII 6.217320671621195 6.709853123095423\n"
     ]
    }
   ],
   "source": [
    "for ii in range(11):\n",
    "    print(line_id[ii],np.log10(temp_min[ii]+1),np.log10(temp_max[ii]))"
   ]
  },
  {
   "cell_type": "code",
   "execution_count": 114,
   "metadata": {},
   "outputs": [
    {
     "name": "stdout",
     "output_type": "stream",
     "text": [
      "Fe XI            7.19  7.25\n",
      "Na IX            6.52  6.63\n",
      "Fe VIII          6.46  6.71\n",
      "Mg IX            6.45  6.58\n",
      "Mg VIII 782      6.43  6.56\n",
      "Mg VIII 772      6.40  6.54\n",
      "Ne VIII          6.36  6.49\n",
      "O VI             6.06  6.25\n",
      "Mg X             6.35  6.51\n",
      "N V              5.95  6.16\n",
      "Ar VIII          6.55  6.71\n",
      "Fe VIII*         6.22  6.59\n",
      "Fe VIII*         6.38  6.66\n",
      "Fe IX*           6.50  6.73\n",
      "Fe X*            6.45  6.70\n",
      "Fe XI 188        6.56  6.77\n",
      "Fe XII*          6.65  6.82\n",
      "O VI*            6.08  6.26\n",
      "Mn VIII*         6.44  6.69\n",
      "Fe XI 192        6.60  6.80\n",
      "Fe XI 256        6.15  6.56\n",
      "Si X 258         5.84  6.26\n",
      "Si X 261         5.67  6.20\n",
      "Si X 272         6.25  6.46\n",
      "Si X 277         6.40  6.56\n",
      "S X 259          5.94  6.33\n",
      "S X 264          0.00  6.11\n",
      "Mg VII           6.01  6.30\n",
      "Si VII 272       6.30  6.49\n",
      "Si VII 274       5.74  6.22\n",
      "Si VII 275.3     6.22  6.44\n",
      "Si VII 275.6     6.04  6.35\n"
     ]
    }
   ],
   "source": [
    "for ii in range(32):\n",
    "    print(\"{:15s} {:5.2f} {:5.2f}\".format(line_id_all[ii],np.log10(temp_min_all[ii]+1),np.log10(temp_max_all[ii])))"
   ]
  },
  {
   "cell_type": "code",
   "execution_count": 22,
   "metadata": {},
   "outputs": [
    {
     "data": {
      "image/png": "[encoded data removed]",
      "text/plain": [
       "<Figure size 1152x432 with 1 Axes>"
      ]
     },
     "metadata": {
      "needs_background": "light"
     },
     "output_type": "display_data"
    }
   ],
   "source": [
    "fig,ax = plt.subplots(figsize=(16,6))\n",
    "ax.errorbar(np.arange(11),temp_aver,[temp_max-temp_aver,temp_aver-temp_min],marker=None,fmt=\"none\",capsize=4,lw=1)\n",
    "ax.set_yscale(\"log\")\n",
    "ax.set_xlim(-1,11)\n",
    "ax.set_xticks(np.arange(10))\n",
    "ax.set_xticklabels(line_id_latex)\n",
    "ax.tick_params(labelsize=16)\n",
    "#ax.xaxis.set_major_locator(plt.MaxNLocator(13))"
   ]
  },
  {
   "cell_type": "code",
   "execution_count": 23,
   "metadata": {},
   "outputs": [
    {
     "data": {
      "text/plain": [
       "Text(0.5, 0, '$Z/A$')"
      ]
     },
     "execution_count": 23,
     "metadata": {},
     "output_type": "execute_result"
    },
    {
     "data": {
      "image/png": "[encoded data removed]",
      "text/plain": [
       "<Figure size 1152x432 with 1 Axes>"
      ]
     },
     "metadata": {
      "needs_background": "light"
     },
     "output_type": "display_data"
    }
   ],
   "source": [
    "fig,ax = plt.subplots(figsize=(16,6))\n",
    "ax.errorbar(line_z2a,temp_aver,[temp_max-temp_aver,temp_aver-temp_min],marker=None,fmt=\"none\",capsize=4,lw=1)\n",
    "ax.set_yscale(\"log\")\n",
    "for ii in range(11):\n",
    "    ax.text(line_z2a[ii],temp_max[ii]*2,line_id_latex[ii],ha = 'center',va = 'center', color = 'black',fontsize = 15,linespacing=1.5)\n",
    "#ax.set_xlim(-1,11)\n",
    "#ax.set_xticks(np.arange(10))\n",
    "#ax.set_xticklabels(line_id_latex)\n",
    "ax.tick_params(labelsize=16)\n",
    "ax.set_xlabel(r\"$Z/A$\",fontsize=16)\n",
    "#ax.xaxis.set_major_locator(plt.MaxNLocator(13))"
   ]
  },
  {
   "cell_type": "code",
   "execution_count": 123,
   "metadata": {},
   "outputs": [
    {
     "data": {
      "text/plain": [
       "Text(0.5, 0, '$Z/A$')"
      ]
     },
     "execution_count": 123,
     "metadata": {},
     "output_type": "execute_result"
    },
    {
     "data": {
      "image/png": "[encoded data removed]",
      "text/plain": [
       "<Figure size 1152x432 with 1 Axes>"
      ]
     },
     "metadata": {
      "needs_background": "light"
     },
     "output_type": "display_data"
    }
   ],
   "source": [
    "fig,ax = plt.subplots(figsize=(16,6))\n",
    "ax.errorbar(line_z2a_all[:11],temp_aver_all[:11],[(temp_max_all-temp_aver_all)[:11],(temp_aver_all-temp_min_all)[:11]],\n",
    "            marker=None,fmt=\"none\",capsize=5,lw=1.2,color = 'red')\n",
    "ax.errorbar(line_z2a_all[11:],temp_aver_all[11:],[(temp_max_all-temp_aver_all)[11:],(temp_aver_all-temp_min_all)[11:]],\n",
    "            marker=None,fmt=\"none\",capsize=5,lw=1.2,color = 'blue')\n",
    "ax.set_yscale(\"log\")\n",
    "for ii in range(11):\n",
    "    ax.text(line_z2a_all[ii],temp_aver_all[ii],line_id_latex_all[ii],ha = 'center',va = 'center',\n",
    "            color = 'red',fontsize = 15,linespacing=1.5)\n",
    "for ii in range(11,32):\n",
    "    ax.text(line_z2a_all[ii],temp_aver_all[ii],line_id_latex_all[ii],ha = 'center',va = 'center',\n",
    "            color = 'blue',fontsize = 15,linespacing=1.5)\n",
    "#ax.set_xlim(-1,11)\n",
    "#ax.set_xticks(np.arange(10))\n",
    "#ax.set_xticklabels(line_id_latex)\n",
    "ax.tick_params(labelsize=16)\n",
    "ax.set_xlabel(r\"$Z/A$\",fontsize=16)\n",
    "#ax.xaxis.set_major_locator(plt.MaxNLocator(13))"
   ]
  }
 ],
 "metadata": {
  "kernelspec": {
   "display_name": "Python 3",
   "language": "python",
   "name": "python3"
  },
  "language_info": {
   "codemirror_mode": {
    "name": "ipython",
    "version": 3
   },
   "file_extension": ".py",
   "mimetype": "text/x-python",
   "name": "python",
   "nbconvert_exporter": "python",
   "pygments_lexer": "ipython3",
   "version": "3.7.3"
  }
 },
 "nbformat": 4,
 "nbformat_minor": 4
}
