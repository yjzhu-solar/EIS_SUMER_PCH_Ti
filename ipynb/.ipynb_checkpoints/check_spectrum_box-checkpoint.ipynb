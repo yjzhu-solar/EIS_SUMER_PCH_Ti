{
 "cells": [
  {
   "cell_type": "code",
   "execution_count": 1,
   "metadata": {},
   "outputs": [],
   "source": [
    "import numpy as np\n",
    "import matplotlib.pyplot as plt\n",
    "import matplotlib.cm as cm\n",
    "from matplotlib import colors\n",
    "from matplotlib import ticker\n",
    "from matplotlib.ticker import (MultipleLocator, AutoMinorLocator)\n",
    "from matplotlib import rcParams\n",
    "from matplotlib import patches\n",
    "import scipy.io\n",
    "import astropy.constants as const\n",
    "#rcParams['text.usetex'] = True\n",
    "#rcParams['font.family'] = 'serif'\n",
    "import pandas as pd\n",
    "#import ChiantiPy.core as ch\n",
    "import copy\n",
    "from scipy import interpolate\n",
    "from mpl_toolkits.axes_grid1.inset_locator import inset_axes\n",
    "plt.style.use('science')\n",
    "rcParams['axes.linewidth'] = 1.2\n",
    "import cmca"
   ]
  }
 ],
 "metadata": {
  "kernelspec": {
   "display_name": "Python 3 (ipykernel)",
   "language": "python",
   "name": "python3"
  },
  "language_info": {
   "codemirror_mode": {
    "name": "ipython",
    "version": 3
   },
   "file_extension": ".py",
   "mimetype": "text/x-python",
   "name": "python",
   "nbconvert_exporter": "python",
   "pygments_lexer": "ipython3",
   "version": "3.7.3"
  }
 },
 "nbformat": 4,
 "nbformat_minor": 4
}
